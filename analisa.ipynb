{
 "cells": [
  {
   "cell_type": "markdown",
   "metadata": {},
   "source": [
    "<h1>I. Problem Statement</h1>"
   ]
  },
  {
   "cell_type": "markdown",
   "metadata": {},
   "source": [
    "Perusahaan e-commerce menghadapi tantangan dalam mengelola operasionalnya, khususnya dalam hal manajemen stok dan pengiriman. Berdasarkan data yang tersedia, terlihat beberapa masalah yang perlu ditangani untuk meningkatkan efisiensi operasional.<br><br>\n",
    "**Latar Belakang Masalah**<br><br>\n",
    "Perusahaan memiliki beragam kategori produk dengan karakteristik yang berbeda-beda. Setiap kategori menunjukkan pola manajemen stok yang unik, mulai dari umur stok, tingkat turnover, hingga kebutuhan safety stock. Selain itu, sistem pengiriman juga menunjukkan variasi performa yang signifikan antar wilayah dan kategori produk."
   ]
  },
  {
   "cell_type": "markdown",
   "metadata": {},
   "source": [
    "**Identifikasi Masalah Utama**<br><br>\n",
    "\n",
    "Kinerja Pengiriman\n",
    "\n",
    "* Durasi pengiriman bervariasi antar wilayah\n",
    "* Tingkat pembatalan dan pengembalian produk perlu dianalisis\n",
    "* Efisiensi distribusi belum optimal\n",
    "\n",
    "Manajemen Stok\n",
    "\n",
    "* Terdapat variasi umur stok yang signifikan antar kategori produk\n",
    "* Beberapa kategori menunjukkan turnover stok yang rendah\n",
    "* Kebutuhan safety stock belum dioptimalkan\n",
    "* Ada indikasi overstocking di beberapa kategori\n"
   ]
  },
  {
   "cell_type": "markdown",
   "metadata": {},
   "source": [
    "**Penjabaran Masalah**\n",
    "* Apa penyebab variasi durasi pengiriman antar wilayah?\n",
    "* Bagaimana pola pembatalan dan pengembalian produk?\n",
    "* Bagaimana pola distribusi umur stok antar kategori produk?\n",
    "* Faktor apa saja yang mempengaruhi tingkat turnover stok?\n",
    "* Bagaimana mengoptimalkan level safety stock untuk setiap kategori?\n"
   ]
  },
  {
   "cell_type": "markdown",
   "metadata": {},
   "source": [
    "<h1>II. Data Load</h1>"
   ]
  },
  {
   "cell_type": "code",
   "execution_count": 2,
   "metadata": {},
   "outputs": [],
   "source": [
    "import pandas as pd\n",
    "import numpy as np\n",
    "import matplotlib.pyplot as plt\n",
    "import seaborn as sns\n",
    "from scipy.stats import chi2_contingency, f_oneway\n",
    "from geopy.distance import geodesic\n"
   ]
  },
  {
   "cell_type": "code",
   "execution_count": 3,
   "metadata": {},
   "outputs": [],
   "source": [
    "pd.options.mode.copy_on_write = True"
   ]
  },
  {
   "cell_type": "code",
   "execution_count": 4,
   "metadata": {},
   "outputs": [
    {
     "name": "stderr",
     "output_type": "stream",
     "text": [
      "C:\\Users\\Ideapad Pro 5i\\AppData\\Local\\Temp\\ipykernel_17096\\3160174799.py:5: DtypeWarning: Columns (8) have mixed types. Specify dtype option on import or set low_memory=False.\n",
      "  user = pd.read_csv('Data/user.csv')\n"
     ]
    }
   ],
   "source": [
    "inventory_item = pd.read_csv('Data/inventory_items.csv')\n",
    "order = pd.read_csv('Data/order.csv')\n",
    "order_items = pd.read_csv('Data/order_items.csv')\n",
    "product = pd.read_csv('Data/products.csv')\n",
    "user = pd.read_csv('Data/user.csv')\n",
    "dc_loc = pd.read_csv('Data/dc.csv')"
   ]
  },
  {
   "cell_type": "code",
   "execution_count": 4,
   "metadata": {},
   "outputs": [],
   "source": [
    "# Daftar kolom tanggal yang perlu dikonversi\n",
    "date_columns_inventory = ['created_at', 'sold_at']\n",
    "date_columns_order_items = ['created_at', 'shipped_at', 'delivered_at', 'returned_at']\n",
    "date_columns_order = ['created_at', 'shipped_at', 'delivered_at', 'returned_at']\n",
    "\n",
    "# Fungsi untuk mengkonversi kolom tanggal\n",
    "def convert_to_datetime(df, date_columns):\n",
    "    for col in date_columns:\n",
    "        if col in df.columns:\n",
    "            df[col] = pd.to_datetime(df[col], errors='coerce')\n",
    "    return df\n",
    "\n",
    "# Konversi semua kolom tanggal ke datetime\n",
    "inventory_item = convert_to_datetime(inventory_item, date_columns_inventory)\n",
    "order_items = convert_to_datetime(order_items, date_columns_order_items)\n",
    "order = convert_to_datetime(order, date_columns_order)"
   ]
  },
  {
   "cell_type": "markdown",
   "metadata": {},
   "source": [
    "<h1>III. Data Analysis</h1>"
   ]
  },
  {
   "cell_type": "markdown",
   "metadata": {},
   "source": [
    "<h2>A. Shipping Performence</h2>"
   ]
  },
  {
   "cell_type": "code",
   "execution_count": 5,
   "metadata": {},
   "outputs": [
    {
     "name": "stdout",
     "output_type": "stream",
     "text": [
      "Total order yang dibuat : 11272\n",
      "Order yang berhasil dikirim sebanyak: 7403 (Shipping rate 65.68%)\n"
     ]
    }
   ],
   "source": [
    "total_orders = len(order)\n",
    "shipped_orders = order['shipped_at'].notnull().sum()\n",
    "shipping_rate = shipped_orders / total_orders * 100\n",
    "print(f'Total order yang dibuat : {total_orders}')\n",
    "print(f'Order yang berhasil dikirim sebanyak: {shipped_orders} (Shipping rate {shipping_rate:.2f}%)')"
   ]
  },
  {
   "cell_type": "code",
   "execution_count": 6,
   "metadata": {},
   "outputs": [
    {
     "data": {
      "text/plain": [
       "status\n",
       "Shipped       3439\n",
       "Complete      2869\n",
       "Processing    2227\n",
       "Cancelled     1642\n",
       "Returned      1095\n",
       "Name: count, dtype: int64"
      ]
     },
     "execution_count": 6,
     "metadata": {},
     "output_type": "execute_result"
    }
   ],
   "source": [
    "order.status.value_counts()"
   ]
  },
  {
   "cell_type": "markdown",
   "metadata": {},
   "source": [
    "<h3>1. Kecepatan barang mulai dikirim</h3>"
   ]
  },
  {
   "cell_type": "code",
   "execution_count": 7,
   "metadata": {},
   "outputs": [
    {
     "name": "stdout",
     "output_type": "stream",
     "text": [
      "Rata-rata waktu pengiriman barang: 0.99 hari\n",
      "Rata-rata barang terkirim ke konsumen: 1.97 hari\n"
     ]
    }
   ],
   "source": [
    "order['shipping_duration'] = (order['shipped_at'] - order['created_at']).dt.days\n",
    "order['delivery_duration'] = (order['delivered_at'] - order['shipped_at']).dt.days\n",
    "\n",
    "avg_shipping_time = order['shipping_duration'].mean()\n",
    "avg_delivery_time = order['delivery_duration'].mean()\n",
    "print(f'Rata-rata waktu pengiriman barang: {avg_shipping_time:.2f} hari')\n",
    "print(f'Rata-rata barang terkirim ke konsumen: {avg_delivery_time:.2f} hari')"
   ]
  },
  {
   "cell_type": "code",
   "execution_count": 8,
   "metadata": {},
   "outputs": [
    {
     "name": "stdout",
     "output_type": "stream",
     "text": [
      "Persentase keterlambatan pengiriman lebih dari 1 hari : 33.05 %\n",
      "Persentase keterlambatan pengiriman lebih dari 2 hari : 0.00 %\n"
     ]
    }
   ],
   "source": [
    "i = 1\n",
    "while True:\n",
    "    late_shipping = order[order['shipping_duration'] > i].shape[0]\n",
    "    late_shipping_rate = late_shipping / shipped_orders * 100\n",
    "    print(f'Persentase keterlambatan pengiriman lebih dari {i} hari : {late_shipping_rate:.2f} %')\n",
    "    i+= 1\n",
    "    if late_shipping_rate == 0:\n",
    "        break"
   ]
  },
  {
   "cell_type": "markdown",
   "metadata": {},
   "source": [
    "Dari hasil analisa rata-rata barang mulai dikirim ke konsumen yaitu 0.99 hari dimana tergolong baik dan cepat. Namun masih ada keterlambatan pengiriman lebih dari satu hari sebesar 33.05%. Perlu dianalisi lebih lanjut dengan data yang ada untuk mengetahui permasalahan keterlambatan pengiriman."
   ]
  },
  {
   "cell_type": "markdown",
   "metadata": {},
   "source": [
    "<h4>1.1 Pengaruh Waktu Orderan Dibuat Terhadap Keterlambatan Pengiriman Barang</h4>"
   ]
  },
  {
   "cell_type": "markdown",
   "metadata": {},
   "source": [
    "a. Analisis distribusi late shipping berdasarkan jam"
   ]
  },
  {
   "cell_type": "code",
   "execution_count": 9,
   "metadata": {},
   "outputs": [
    {
     "data": {
      "image/png": "[encoded data removed]",
      "text/plain": [
       "<Figure size 1200x600 with 1 Axes>"
      ]
     },
     "metadata": {},
     "output_type": "display_data"
    }
   ],
   "source": [
    "# Buat kolom untuk menandai late shipping\n",
    "order['is_late'] = order['shipping_duration'] > 1\n",
    "\n",
    "# Analisis berdasarkan jam\n",
    "hourly_analysis = order.groupby(order['created_at'].dt.hour)['is_late'].agg(['count', 'sum', 'mean'])\n",
    "hourly_analysis = hourly_analysis.rename(columns={'count': 'total_orders', \n",
    "                                                'sum': 'late_orders', \n",
    "                                                'mean': 'late_rate'})\n",
    "\n",
    "# Visualisasi late rate berdasarkan jam\n",
    "plt.figure(figsize=(12, 6))\n",
    "plt.plot(hourly_analysis.index, hourly_analysis['late_rate'] * 100, marker='o')\n",
    "plt.title('Late Shipping Rate per Jam dalam Satu Hari')\n",
    "plt.xlabel('Jam (format 24 Jam)')\n",
    "plt.ylabel('Late Shipping Rate (%)')\n",
    "plt.grid(True, alpha=0.3)\n",
    "plt.xticks(range(0, 24))\n",
    "plt.show()\n",
    "\n"
   ]
  },
  {
   "cell_type": "code",
   "execution_count": 10,
   "metadata": {},
   "outputs": [
    {
     "name": "stdout",
     "output_type": "stream",
     "text": [
      "\n",
      "Analisis Statistik Late Shipping berdasarkan waktu:\n",
      "\n",
      "Jam dengan late rate tertinggi:\n",
      "            total_orders  late_orders  late_rate\n",
      "created_at                                      \n",
      "2                    548          136   0.248175\n",
      "0                    586          143   0.244027\n",
      "4                    571          139   0.243433\n",
      "\n",
      "Jam dengan late rate terendah:\n",
      "            total_orders  late_orders  late_rate\n",
      "created_at                                      \n",
      "18                   602          113   0.187708\n",
      "7                    581          112   0.192771\n",
      "10                   625          122   0.195200\n"
     ]
    }
   ],
   "source": [
    "print(\"\\nAnalisis Statistik Late Shipping berdasarkan waktu:\")\n",
    "print(\"\\nJam dengan late rate tertinggi:\")\n",
    "print(hourly_analysis.nlargest(3, 'late_rate')[['total_orders', 'late_orders', 'late_rate']])\n",
    "print(\"\\nJam dengan late rate terendah:\")\n",
    "print(hourly_analysis.nsmallest(3, 'late_rate')[['total_orders', 'late_orders', 'late_rate']])"
   ]
  },
  {
   "cell_type": "markdown",
   "metadata": {},
   "source": [
    "b. Analisis berdasarkan hari dalam seminggu"
   ]
  },
  {
   "cell_type": "code",
   "execution_count": 11,
   "metadata": {},
   "outputs": [
    {
     "data": {
      "image/png": "[encoded data removed]",
      "text/plain": [
       "<Figure size 1000x600 with 1 Axes>"
      ]
     },
     "metadata": {},
     "output_type": "display_data"
    }
   ],
   "source": [
    "daily_analysis = order.groupby(order['created_at'].dt.day_name())['is_late'].agg(['count', 'sum', 'mean'])\n",
    "daily_analysis = daily_analysis.rename(columns={'count': 'total_orders', \n",
    "                                              'sum': 'late_orders', \n",
    "                                              'mean': 'late_rate'})\n",
    "# Visualisasi late rate berdasarkan hari\n",
    "plt.figure(figsize=(10, 6))\n",
    "plt.bar(daily_analysis.index, daily_analysis['late_rate'] * 100)\n",
    "plt.title('Late Shipping Rate per Hari dalam Seminggu')\n",
    "plt.xlabel('Hari')\n",
    "plt.ylabel('Late Shipping Rate (%)')\n",
    "plt.xticks(rotation=45)\n",
    "plt.grid(True, alpha=0.3)\n",
    "plt.tight_layout()\n",
    "plt.show()\n"
   ]
  },
  {
   "cell_type": "code",
   "execution_count": 12,
   "metadata": {},
   "outputs": [
    {
     "name": "stdout",
     "output_type": "stream",
     "text": [
      "\n",
      "Analisis Statistik Late Shipping berdasarkan hari:\n",
      "            total_orders  late_orders  late_rate\n",
      "created_at                                      \n",
      "Sunday              1645          377   0.229179\n",
      "Saturday            1606          358   0.222914\n",
      "Thursday            1605          356   0.221807\n",
      "Friday              1592          353   0.221734\n",
      "Tuesday             1606          340   0.211706\n",
      "Wednesday           1627          343   0.210817\n",
      "Monday              1591          320   0.201131\n"
     ]
    }
   ],
   "source": [
    "print(\"\\nAnalisis Statistik Late Shipping berdasarkan hari:\")\n",
    "print(daily_analysis.sort_values('late_rate', ascending=False))"
   ]
  },
  {
   "cell_type": "markdown",
   "metadata": {},
   "source": [
    "c. Uji statistik (Chi-square test)"
   ]
  },
  {
   "cell_type": "code",
   "execution_count": 13,
   "metadata": {},
   "outputs": [
    {
     "name": "stdout",
     "output_type": "stream",
     "text": [
      "\n",
      "Uji Statistik:\n",
      "Chi-square test p-value untuk pengaruh jam: 0.2417\n",
      "Tidak ada hubungan signifikan antara jam pemesanan dengan keterlambatan pengiriman\n"
     ]
    }
   ],
   "source": [
    "#Membuat dataframe test\n",
    "test_hour = pd.crosstab(order['created_at'].dt.hour, order['is_late'])\n",
    "chi2, p_value, dof, expected = chi2_contingency(test_hour)\n",
    "\n",
    "print(\"\\nUji Statistik:\")\n",
    "print(f\"Chi-square test p-value untuk pengaruh jam: {p_value:.4f}\")\n",
    "if p_value < 0.05:\n",
    "    print(\"Ada hubungan signifikan antara jam pemesanan dengan keterlambatan pengiriman\")\n",
    "else:\n",
    "    print(\"Tidak ada hubungan signifikan antara jam pemesanan dengan keterlambatan pengiriman\")"
   ]
  },
  {
   "cell_type": "markdown",
   "metadata": {},
   "source": [
    "<p>Late shipping rate pada setiap jam dalam satu hari menunjukkan tidak ada jam-jam tertentu yang berpengaruh kuat dalam keterlambatan pengiriman barang. Jumlah keterlambatan setiap jamnya juga cenderung identik. Diperkuat dengan uji statistik juga menunjukkan tidak ada hubungan signifikan antara jam pemesanan dengan keterlambatan pengiriman. Hal ini menandakan tidak ada keterlambatan karena order dibuat karena diluar jam operasional.<br><br>\n",
    "Untuk analisa hari terhadap late shipping rate juga menunjukkan tidak ada hari tertentu yang mengakibatkan keterlambatan lebih besar.<br>\n",
    "Jadi waktu bukan menjadi faktor yang kuat mempengaruhi pengiriman barang.</p>"
   ]
  },
  {
   "cell_type": "markdown",
   "metadata": {},
   "source": [
    "<h4>1.2 Pengaruh Quantity Barang dalam Order</h4>"
   ]
  },
  {
   "cell_type": "markdown",
   "metadata": {},
   "source": [
    "a. Analisa Statistik"
   ]
  },
  {
   "cell_type": "code",
   "execution_count": 14,
   "metadata": {},
   "outputs": [
    {
     "name": "stdout",
     "output_type": "stream",
     "text": [
      "Statistik jumlah item berdasarkan status pengiriman:\n",
      "          count      mean       std  min  25%  50%  75%  max\n",
      "is_late                                                     \n",
      "False    8825.0  1.456657  0.818369  1.0  1.0  1.0  2.0  4.0\n",
      "True     2447.0  1.427462  0.774405  1.0  1.0  1.0  2.0  4.0\n"
     ]
    },
    {
     "data": {
      "image/png": "[encoded data removed]",
      "text/plain": [
       "<Figure size 1000x600 with 1 Axes>"
      ]
     },
     "metadata": {},
     "output_type": "display_data"
    }
   ],
   "source": [
    "#Menambah kolom is_late untuk menandai\n",
    "order['is_late'] = order['shipping_duration'] > 1\n",
    "\n",
    "# Analisis statistik berdasarkan status keterlambatan pengiriman\n",
    "print(\"Statistik jumlah item berdasarkan status pengiriman:\")\n",
    "stats_by_status = order.groupby('is_late')['num_of_item'].describe()\n",
    "print(stats_by_status)\n",
    "\n",
    "# Visualisasi box plot\n",
    "plt.figure(figsize=(10, 6))\n",
    "sns.boxplot(x='is_late', y='num_of_item', data=order)\n",
    "plt.title('Distribusi Jumlah Item: Late vs On-time Orders')\n",
    "plt.xlabel('Is Late Shipping')\n",
    "plt.ylabel('Jumlah Item')\n",
    "plt.show()\n",
    "\n"
   ]
  },
  {
   "cell_type": "markdown",
   "metadata": {},
   "source": [
    "b. Analisis rate keterlambatan per jumlah item"
   ]
  },
  {
   "cell_type": "code",
   "execution_count": 15,
   "metadata": {},
   "outputs": [
    {
     "data": {
      "image/png": "[encoded data removed]",
      "text/plain": [
       "<Figure size 1200x600 with 1 Axes>"
      ]
     },
     "metadata": {},
     "output_type": "display_data"
    },
    {
     "name": "stdout",
     "output_type": "stream",
     "text": [
      "\n",
      "Analisis Late Shipping berdasarkan jumlah item:\n",
      "\n",
      "Jumlah item dengan late rate tertinggi:\n",
      "             total_orders  late_orders  late_rate\n",
      "num_of_item                                      \n",
      "2                    2225          502      0.226\n",
      "1                    7911         1727      0.218\n",
      "3                     557          110      0.197\n",
      "\n",
      "Jumlah item dengan late rate terendah:\n",
      "             total_orders  late_orders  late_rate\n",
      "num_of_item                                      \n",
      "4                     579          108      0.187\n",
      "3                     557          110      0.197\n",
      "1                    7911         1727      0.218\n"
     ]
    }
   ],
   "source": [
    "#Membuat dataframe untuk data yang pengiriman terlambat (>1 Hari) dikelompokkan berdasar jumlah item setiap order\n",
    "item_analysis = order.groupby('num_of_item').agg({\n",
    "    'is_late': ['count', 'sum', 'mean']\n",
    "}).round(3)\n",
    "\n",
    "item_analysis.columns = ['total_orders', 'late_orders', 'late_rate']\n",
    "\n",
    "# Visualisasi late rate berdasarkan jumlah item\n",
    "plt.figure(figsize=(12, 6))\n",
    "plt.plot(item_analysis.index, item_analysis['late_rate'] * 100, marker='o')\n",
    "plt.title('Late Shipping Rate Menurut Jumlah Item di Setiap Order')\n",
    "plt.xlabel('Jumlah Item')\n",
    "plt.ylabel('Late Shipping Rate (%)')\n",
    "plt.grid(True, alpha=0.3)\n",
    "plt.show()\n",
    "\n",
    "# Print statistik\n",
    "print(\"\\nAnalisis Late Shipping berdasarkan jumlah item:\")\n",
    "print(\"\\nJumlah item dengan late rate tertinggi:\")\n",
    "print(item_analysis.nlargest(3, 'late_rate'))\n",
    "print(\"\\nJumlah item dengan late rate terendah:\")\n",
    "print(item_analysis.nsmallest(3, 'late_rate'))"
   ]
  },
  {
   "cell_type": "markdown",
   "metadata": {},
   "source": [
    "c. Perbandingan distribusi order berdasarkan banyak item"
   ]
  },
  {
   "cell_type": "code",
   "execution_count": 16,
   "metadata": {},
   "outputs": [
    {
     "data": {
      "image/png": "[encoded data removed]",
      "text/plain": [
       "<Figure size 1200x600 with 1 Axes>"
      ]
     },
     "metadata": {},
     "output_type": "display_data"
    }
   ],
   "source": [
    "plt.figure(figsize=(12, 6))\n",
    "sns.histplot(data=order, x='num_of_item', hue='is_late', multiple=\"dodge\", shrink=.8)\n",
    "plt.title('Distribusi Jumlah Item Berdasar Shipping Status')\n",
    "plt.xlabel('Jumlah Item')\n",
    "plt.ylabel('Jumlah Order')\n",
    "plt.show()"
   ]
  },
  {
   "cell_type": "markdown",
   "metadata": {},
   "source": [
    "Terdapat keidentikan distribusi jumlah item setiap order terhadap keterlambatan pengiriman dibandingkan pengiriman yang tepat waktu. Terdapat kemungkinan penyebab faktor keterlambatan bukan dari jumlah item dalam suatu order.<br><br>\n",
    "Pada analisa rate keterlambatan pada setiap item, terlihat kecenderungan item dengan jumlah sedikit memiliki rate yang lebih besar. Dan jika dilihat dari jumlah order pada setiap item menunjukkan angka yang semakin besar juga ketika item semakin kecil. Terjadi perbedaan hasil dari analisa statistik dan rate. Perlu di dalami lagi analisa untuk diketahui faktor yang dapat mempengaruhi.<br><br>\n",
    "Ketika dianalisa dengan membandingkan keseluruhan order yang dibuat pada setiap item terlihat jumlah order yang lebih banyak cenderung meningkatkan keterlambatan pengiriman.\n"
   ]
  },
  {
   "cell_type": "markdown",
   "metadata": {},
   "source": [
    "<h3>2. Durasi Pengiriman Hingga Diterima Konsumen.</h3>"
   ]
  },
  {
   "cell_type": "code",
   "execution_count": 17,
   "metadata": {},
   "outputs": [
    {
     "name": "stdout",
     "output_type": "stream",
     "text": [
      "Persentase durasi pengiriman sampai ke customer lebih dari 1 hari : 2357 (31.84 %)\n",
      "Persentase durasi pengiriman sampai ke customer lebih dari 2 hari : 1537 (20.76 %)\n",
      "Persentase durasi pengiriman sampai ke customer lebih dari 3 hari : 747 (10.09 %)\n",
      "Persentase durasi pengiriman sampai ke customer lebih dari 4 hari : 0 (0.00 %)\n"
     ]
    }
   ],
   "source": [
    "i=1\n",
    "while True:\n",
    "    late_delivery = order[order['delivery_duration'] > i].shape[0]\n",
    "    late_delivery_rate = late_delivery / shipped_orders * 100\n",
    "    print(f'Persentase durasi pengiriman sampai ke customer lebih dari {i} hari : {late_delivery} ({late_delivery_rate:.2f} %)')\n",
    "    i+=1\n",
    "    if late_delivery == 0:\n",
    "        break"
   ]
  },
  {
   "cell_type": "code",
   "execution_count": 18,
   "metadata": {},
   "outputs": [
    {
     "name": "stdout",
     "output_type": "stream",
     "text": [
      "Korelasi Jarak vs Durasi Pengiriman: 0.024003650035780717\n",
      "\n",
      "Durasi Pengiriman Berdasarkan Kategori Produk:\n",
      "    product_category  delivery_duration\n",
      "0        Accessories           1.966102\n",
      "1             Active           1.860553\n",
      "2  Blazers & Jackets           2.044554\n",
      "3      Clothing Sets           1.500000\n",
      "4            Dresses           2.030233\n",
      "\n",
      "Durasi Pengiriman Berdasarkan Negara Bagian:\n",
      "     state  delivery_duration\n",
      "0     Acre           3.933333\n",
      "1    Aichi           4.000000\n",
      "2  Alabama           1.647059\n",
      "3  Alagoas           2.476190\n",
      "4   Alaska                NaN\n"
     ]
    }
   ],
   "source": [
    "# Gabungkan order dengan order_items\n",
    "merge_order_items = pd.merge(order, order_items, on='order_id')\n",
    "\n",
    "# Gabungkan dengan inventory_items untuk data DC\n",
    "merge_order_items = pd.merge(merge_order_items, inventory_item, left_on='product_id', right_on='product_id')\n",
    "\n",
    "# Gabungkan dengan DC untuk mendapatkan koordinat DC\n",
    "merge_order_items = pd.merge(merge_order_items, dc_loc, left_on='product_distribution_center_id', right_on='id')\n",
    "\n",
    "# Gabungkan dengan users untuk mendapatkan lokasi pengguna\n",
    "merge_order_items = pd.merge(merge_order_items, user, left_on='user_id_x', right_on='id', suffixes=('_order', '_user'))\n",
    "\n",
    "# Gabungkan dengan products untuk mendapatkan kategori produk\n",
    "merge_order_items = pd.merge(merge_order_items, product, left_on='product_id', right_on='id')\n",
    "\n",
    "# Hitung jarak pengiriman\n",
    "merge_order_items['distance_km'] = merge_order_items.apply(\n",
    "    lambda row: geodesic((row['latitude_user'], row['longitude_user']), \n",
    "                         (row['latitude_order'], row['longitude_order'])).kilometers, axis=1)\n",
    "\n",
    "# Analisis hubungan jarak dengan durasi pengiriman\n",
    "distance_delivery_corr = merge_order_items[['distance_km', 'delivery_duration']].corr().iloc[0, 1]\n",
    "\n",
    "# Rata-rata durasi pengiriman berdasarkan kategori produk\n",
    "avg_duration_by_category = merge_order_items.groupby('product_category')['delivery_duration'].mean().reset_index()\n",
    "\n",
    "# Rata-rata durasi pengiriman berdasarkan negara bagian pengguna\n",
    "avg_duration_by_state = merge_order_items.groupby('state')['delivery_duration'].mean().reset_index()\n",
    "\n",
    "# Output hasil analisis\n",
    "print(\"Korelasi Jarak vs Durasi Pengiriman:\", distance_delivery_corr)\n",
    "print(\"\\nDurasi Pengiriman Berdasarkan Kategori Produk:\")\n",
    "print(avg_duration_by_category.head())\n",
    "print(\"\\nDurasi Pengiriman Berdasarkan Negara Bagian:\")\n",
    "print(avg_duration_by_state.head())\n"
   ]
  },
  {
   "cell_type": "code",
   "execution_count": 19,
   "metadata": {},
   "outputs": [
    {
     "data": {
      "image/png": "[encoded data removed]",
      "text/plain": [
       "<Figure size 1200x600 with 1 Axes>"
      ]
     },
     "metadata": {},
     "output_type": "display_data"
    }
   ],
   "source": [
    "#Visualisasi durasi pengiriman per product category\n",
    "plt.figure(figsize=(12, 6))\n",
    "sns.barplot(data=avg_duration_by_category.sort_values(by='delivery_duration', ascending=False), x='product_category', y='delivery_duration')\n",
    "\n",
    "plt.title('Rata-rata Durasi Pengiriman per Product Category')\n",
    "plt.xlabel('Product Category')\n",
    "plt.ylabel('Durasi Pengiriman (Hari)')\n",
    "plt.xticks(rotation=45, ha='right')\n",
    "plt.tight_layout()\n",
    "\n",
    "plt.show()"
   ]
  },
  {
   "cell_type": "markdown",
   "metadata": {},
   "source": [
    "Terlihat durasi pengiriman dari setiap kategori product tidak terlalu signifikan berbeda."
   ]
  },
  {
   "cell_type": "code",
   "execution_count": 20,
   "metadata": {},
   "outputs": [
    {
     "data": {
      "image/png": "[encoded data removed]",
      "text/plain": [
       "<Figure size 1200x600 with 1 Axes>"
      ]
     },
     "metadata": {},
     "output_type": "display_data"
    }
   ],
   "source": [
    "#Visualisasi durasi pengiriman per state\n",
    "plt.figure(figsize=(12, 6))\n",
    "sns.barplot(data=avg_duration_by_state.sort_values(by='delivery_duration', ascending=False).head(10), x='state', y='delivery_duration')\n",
    "\n",
    "plt.title('Rata-rata Durasi Pengiriman per State')\n",
    "plt.xlabel('State')\n",
    "plt.ylabel('Durasi Pengiriman (Hari)')\n",
    "plt.xticks(rotation=45, ha='right')\n",
    "plt.tight_layout()\n",
    "\n",
    "plt.show()"
   ]
  },
  {
   "cell_type": "markdown",
   "metadata": {},
   "source": [
    "<h3>Analisis Durasi Pengiriman per State</h3>\n",
    "\n",
    "Terdapat perbedaan rata rata kecepatan pengiriman barang hingga sampai ke customer disetiap state. Perbedaan tersebut dianalisa dan digolongkan sebagai berikut:\n",
    "##### a. Pengiriman Cepat (0-1 hari)\n",
    "- State dengan infrastruktur logistik yang baik\n",
    "- Kemungkinan memiliki DC terdekat\n",
    "- Volume pengiriman optimal\n",
    "##### b. Pengiriman Normal (2-3 hari)\n",
    "- Durasi standar untuk sebagian besar state\n",
    "- Mencerminkan rata-rata nasional\n",
    "- Kinerja logistik yang stabil\n",
    "##### c. Pengiriman Lambat (>3 hari)\n",
    "- Mungkin terkendala jarak dengan DC\n",
    "- Potensi bottleneck dalam proses distribusi\n",
    "- Perlu evaluasi rute pengiriman\n",
    "\n",
    "<h4>Faktor-faktor yang Mempengaruhi</h4>\n",
    "\n",
    "##### a. Geografis\n",
    "- Jarak dari DC terdekat\n",
    "- Kondisi infrastruktur transportasi\n",
    "- Karakteristik wilayah (kepulauan, pegunungan, dll)\n",
    "##### b. Operasional\n",
    "- Volume pengiriman (count orders)\n",
    "- Kapasitas handling di setiap state\n",
    "- Ketersediaan partner logistik\n",
    "\n",
    "<h4>Implikasi Bisnis</h4>\n",
    "\n",
    "Durasi dari pengiriman akan berpengaruh terhadap Customer Experience seperti:\n",
    "- State dengan durasi pengiriman cepat cenderung memiliki kepuasan pelanggan lebih tinggi\n",
    "- Area dengan pengiriman lambat berisiko tinggi terhadap komplain\n",
    "- Potensi dampak pada repeat order\n"
   ]
  },
  {
   "cell_type": "markdown",
   "metadata": {},
   "source": [
    "<h2>B. Stock Performence</h2>"
   ]
  },
  {
   "cell_type": "markdown",
   "metadata": {},
   "source": [
    "<h3>1. Pembatalan Pesanan</h3>"
   ]
  },
  {
   "cell_type": "code",
   "execution_count": 21,
   "metadata": {},
   "outputs": [
    {
     "name": "stdout",
     "output_type": "stream",
     "text": [
      "Persentase pembatalan order : 14.57%\n",
      "Rata-rata durasi hari untuk order cancel: 87.88 hari\n"
     ]
    }
   ],
   "source": [
    "# Membuat dataframe untuk cancelled order\n",
    "cancelled_orders = order.loc[order['status'] == 'Cancelled']\n",
    "\n",
    "# Hitung selisih hari antara pemesanan dan pembatalan (asumsi pembatalan terjadi sebelum pengiriman)\n",
    "cancelled_orders['days_to_cancel'] = (cancelled_orders['created_at'].max() - cancelled_orders['created_at']).dt.days\n",
    "\n",
    "# Hitung rata-rata waktu sebelum pembatalan terjadi\n",
    "average_days_to_cancel = cancelled_orders['days_to_cancel'].mean()\n",
    "\n",
    "# Hitung persentase pesanan yang dibatalkan\n",
    "cancelled_percentage = (len(cancelled_orders) / total_orders) * 100\n",
    "\n",
    "print(f'Persentase pembatalan order : {cancelled_percentage:.2f}%')\n",
    "print(f'Rata-rata durasi hari untuk order cancel: {average_days_to_cancel:.2f} hari')\n"
   ]
  },
  {
   "cell_type": "code",
   "execution_count": 22,
   "metadata": {},
   "outputs": [
    {
     "name": "stderr",
     "output_type": "stream",
     "text": [
      "C:\\Users\\Ideapad Pro 5i\\AppData\\Local\\Temp\\ipykernel_6476\\2941643159.py:2: UserWarning: Converting to PeriodArray/Index representation will drop timezone information.\n",
      "  order['year_month'] = order['created_at'].dt.to_period('M')\n"
     ]
    },
    {
     "data": {
      "image/png": "[encoded data removed]",
      "text/plain": [
       "<Figure size 1200x600 with 1 Axes>"
      ]
     },
     "metadata": {},
     "output_type": "display_data"
    }
   ],
   "source": [
    "# Tambahkan kolom bulan dan tahun untuk analisis tren waktu\n",
    "order['year_month'] = order['created_at'].dt.to_period('M')\n",
    "order['month'] = order['created_at'].dt.month_name()\n",
    "\n",
    "# Hitung total order dan order yang dibatalkan per bulan\n",
    "monthly_orders = order.groupby(['year_month', 'month']).size()\n",
    "monthly_cancelled = order[order['status'] == 'Cancelled'].groupby(['year_month', 'month']).size()\n",
    "\n",
    "# Gabungkan dan hitung persentase pembatalan\n",
    "monthly_summary = pd.DataFrame({\n",
    "    'total_orders': monthly_orders,\n",
    "    'cancelled_orders': monthly_cancelled\n",
    "}).fillna(0)\n",
    "\n",
    "monthly_summary['cancelled_ratio'] = (monthly_summary['cancelled_orders'] / monthly_summary['total_orders']) * 100\n",
    "\n",
    "monthly_summary.reset_index(inplace=True)\n",
    "\n",
    "#Visualisasi pembatalan setiap bulan\n",
    "plt.figure(figsize=(12, 6))\n",
    "sns.barplot(data=monthly_summary.sort_values(by='year_month'), x='month', y='cancelled_ratio')\n",
    "\n",
    "plt.title('Persentase Pembatalan Order per Bulan')\n",
    "plt.xlabel('Bulan')\n",
    "plt.ylabel('Persentase Pembatalan (%)')\n",
    "plt.xticks(rotation=45)\n",
    "plt.tight_layout()\n",
    "plt.show()"
   ]
  },
  {
   "cell_type": "markdown",
   "metadata": {},
   "source": [
    "Rata-rata 14.57% order mengalami pembatalan setiap bulannya, yang cukup tinggi.<br>\n",
    "\n",
    "Mei 2023 mencatat tingkat pembatalan tertinggi (15.9%), sementara April dan Juni sedikit lebih rendah."
   ]
  },
  {
   "cell_type": "code",
   "execution_count": 23,
   "metadata": {},
   "outputs": [],
   "source": [
    "# Gabungkan ulang order_items dengan inventory\n",
    "merged_orders = order_items.merge(inventory_item, on='product_id', how='left')\n",
    "\n",
    "# Hitung jumlah pembatalan per produk\n",
    "cancelled_products = merged_orders[merged_orders['status'] == 'Cancelled']\n",
    "\n",
    "# Kelompokkan berdasarkan product_id dan hitung jumlah pembatalan\n",
    "cancelled_product_counts = cancelled_products['product_id'].value_counts().reset_index()\n",
    "cancelled_product_counts.columns = ['product_id', 'cancel_count']\n",
    "\n",
    "# Gabungkan dengan dataset produk untuk mendapatkan nama produk\n",
    "cancelled_product_details = pd.merge(cancelled_product_counts, product, left_on='product_id', right_on='id')\n",
    "\n",
    "# Urutkan berdasarkan jumlah pembatalan terbanyak\n",
    "top_cancelled_products = cancelled_product_details[['product_id', 'name', 'cancel_count']].sort_values(by='cancel_count', ascending=False).head(10)\n"
   ]
  },
  {
   "cell_type": "code",
   "execution_count": 24,
   "metadata": {},
   "outputs": [
    {
     "data": {
      "text/html": [
       "<div>\n",
       "<style scoped>\n",
       "    .dataframe tbody tr th:only-of-type {\n",
       "        vertical-align: middle;\n",
       "    }\n",
       "\n",
       "    .dataframe tbody tr th {\n",
       "        vertical-align: top;\n",
       "    }\n",
       "\n",
       "    .dataframe thead th {\n",
       "        text-align: right;\n",
       "    }\n",
       "</style>\n",
       "<table border=\"1\" class=\"dataframe\">\n",
       "  <thead>\n",
       "    <tr style=\"text-align: right;\">\n",
       "      <th>is_sold</th>\n",
       "      <th>False</th>\n",
       "      <th>True</th>\n",
       "    </tr>\n",
       "    <tr>\n",
       "      <th>product_id</th>\n",
       "      <th></th>\n",
       "      <th></th>\n",
       "    </tr>\n",
       "  </thead>\n",
       "  <tbody>\n",
       "    <tr>\n",
       "      <th>14306</th>\n",
       "      <td>3</td>\n",
       "      <td>3</td>\n",
       "    </tr>\n",
       "    <tr>\n",
       "      <th>16595</th>\n",
       "      <td>2</td>\n",
       "      <td>4</td>\n",
       "    </tr>\n",
       "    <tr>\n",
       "      <th>18016</th>\n",
       "      <td>3</td>\n",
       "      <td>3</td>\n",
       "    </tr>\n",
       "    <tr>\n",
       "      <th>18281</th>\n",
       "      <td>4</td>\n",
       "      <td>2</td>\n",
       "    </tr>\n",
       "    <tr>\n",
       "      <th>23803</th>\n",
       "      <td>4</td>\n",
       "      <td>3</td>\n",
       "    </tr>\n",
       "    <tr>\n",
       "      <th>26019</th>\n",
       "      <td>4</td>\n",
       "      <td>2</td>\n",
       "    </tr>\n",
       "    <tr>\n",
       "      <th>26714</th>\n",
       "      <td>4</td>\n",
       "      <td>3</td>\n",
       "    </tr>\n",
       "    <tr>\n",
       "      <th>27896</th>\n",
       "      <td>2</td>\n",
       "      <td>4</td>\n",
       "    </tr>\n",
       "    <tr>\n",
       "      <th>28318</th>\n",
       "      <td>4</td>\n",
       "      <td>3</td>\n",
       "    </tr>\n",
       "    <tr>\n",
       "      <th>28838</th>\n",
       "      <td>1</td>\n",
       "      <td>4</td>\n",
       "    </tr>\n",
       "  </tbody>\n",
       "</table>\n",
       "</div>"
      ],
      "text/plain": [
       "is_sold     False  True \n",
       "product_id              \n",
       "14306           3      3\n",
       "16595           2      4\n",
       "18016           3      3\n",
       "18281           4      2\n",
       "23803           4      3\n",
       "26019           4      2\n",
       "26714           4      3\n",
       "27896           2      4\n",
       "28318           4      3\n",
       "28838           1      4"
      ]
     },
     "execution_count": 24,
     "metadata": {},
     "output_type": "execute_result"
    }
   ],
   "source": [
    "# Ambil daftar id produk tersebut\n",
    "top_product_id = top_cancelled_products['product_id'].tolist()\n",
    "\n",
    "# Filter inventory berdasarkan produk_id tersebut\n",
    "stock_inventory = inventory_item[inventory_item['product_id'].isin(top_product_id)].copy()\n",
    "\n",
    "# Tandai apakah produk sudah terjual\n",
    "stock_inventory['is_sold'] = stock_inventory['sold_at'].notna()\n",
    "\n",
    "# Hitung status stok per produk (terjual vs tidak)\n",
    "stock_status_summary = stock_inventory.groupby(['product_id', 'is_sold']).size().unstack(fill_value=0)\n",
    "\n",
    "stock_status_summary\n"
   ]
  },
  {
   "cell_type": "markdown",
   "metadata": {},
   "source": [
    "Dari data top product yang dibatalkan ternyata masih memiliki stock yang tersedia. Permasalahan kemungkinan bukan dari permasalahan ketersediaan stock."
   ]
  },
  {
   "cell_type": "code",
   "execution_count": 25,
   "metadata": {},
   "outputs": [
    {
     "name": "stdout",
     "output_type": "stream",
     "text": [
      "Rata-rata durasi orderan dibatalkan setelah dibuat : 87.88 hari\n",
      "Minimal durasi orderan dibatalkan setelah dibuat : 0 hari\n",
      "Maksimal durasi orderan dibatalkan setelah dibuat : 179 hari\n",
      "Median hari terjadi pembatalan order: 88.00 hari\n",
      "Standard deviation: 51.72 hari\n"
     ]
    }
   ],
   "source": [
    "print(f'Rata-rata durasi orderan dibatalkan setelah dibuat : {cancelled_orders['days_to_cancel'].mean():.2f} hari')\n",
    "print(f'Minimal durasi orderan dibatalkan setelah dibuat : {cancelled_orders['days_to_cancel'].min()} hari')\n",
    "print(f'Maksimal durasi orderan dibatalkan setelah dibuat : {cancelled_orders['days_to_cancel'].max()} hari')\n",
    "print(f'Median hari terjadi pembatalan order: {cancelled_orders['days_to_cancel'].median():.2f} hari')\n",
    "print(f'Standard deviation: {cancelled_orders['days_to_cancel'].std():.2f} hari')"
   ]
  },
  {
   "cell_type": "markdown",
   "metadata": {},
   "source": [
    "Rata-rata durasi terjadi pembatalan setelah orderan dibuat sangatlah tinggi. Pembatalan kemungkinan terjadi karena tidak adanya progres di order yang mereka buat. "
   ]
  },
  {
   "cell_type": "markdown",
   "metadata": {},
   "source": [
    "<h3>2. Pengembalian Order</h3>"
   ]
  },
  {
   "cell_type": "code",
   "execution_count": 26,
   "metadata": {},
   "outputs": [
    {
     "data": {
      "text/html": [
       "<div>\n",
       "<style scoped>\n",
       "    .dataframe tbody tr th:only-of-type {\n",
       "        vertical-align: middle;\n",
       "    }\n",
       "\n",
       "    .dataframe tbody tr th {\n",
       "        vertical-align: top;\n",
       "    }\n",
       "\n",
       "    .dataframe thead th {\n",
       "        text-align: right;\n",
       "    }\n",
       "</style>\n",
       "<table border=\"1\" class=\"dataframe\">\n",
       "  <thead>\n",
       "    <tr style=\"text-align: right;\">\n",
       "      <th></th>\n",
       "      <th>id</th>\n",
       "      <th>name</th>\n",
       "      <th>return_count</th>\n",
       "    </tr>\n",
       "  </thead>\n",
       "  <tbody>\n",
       "    <tr>\n",
       "      <th>0</th>\n",
       "      <td>17128</td>\n",
       "      <td>Authentic Pigment 11 oz. Pigment-Dyed Fleece C...</td>\n",
       "      <td>2</td>\n",
       "    </tr>\n",
       "    <tr>\n",
       "      <th>33</th>\n",
       "      <td>25260</td>\n",
       "      <td>Harbor Bay Big &amp; Tall 2-Pack Argyle Socks</td>\n",
       "      <td>2</td>\n",
       "    </tr>\n",
       "    <tr>\n",
       "      <th>24</th>\n",
       "      <td>20573</td>\n",
       "      <td>Carhartt Men's Washed Denim Work Jeans</td>\n",
       "      <td>2</td>\n",
       "    </tr>\n",
       "    <tr>\n",
       "      <th>25</th>\n",
       "      <td>2291</td>\n",
       "      <td>Anna-Kaci S/M Fit Multicoloured Graffit Inspir...</td>\n",
       "      <td>2</td>\n",
       "    </tr>\n",
       "    <tr>\n",
       "      <th>26</th>\n",
       "      <td>16250</td>\n",
       "      <td>Nautica Men's Sun Drenched Colorblock Polo</td>\n",
       "      <td>2</td>\n",
       "    </tr>\n",
       "    <tr>\n",
       "      <th>27</th>\n",
       "      <td>24000</td>\n",
       "      <td>Men's Kuhl Spy Wool Sweater Jacket</td>\n",
       "      <td>2</td>\n",
       "    </tr>\n",
       "    <tr>\n",
       "      <th>28</th>\n",
       "      <td>8268</td>\n",
       "      <td>HALSTON HERITAGE Women's Oversized Double Face...</td>\n",
       "      <td>2</td>\n",
       "    </tr>\n",
       "    <tr>\n",
       "      <th>29</th>\n",
       "      <td>19114</td>\n",
       "      <td>Pendleton Men's Argyle Cardigan Vest</td>\n",
       "      <td>2</td>\n",
       "    </tr>\n",
       "    <tr>\n",
       "      <th>30</th>\n",
       "      <td>24185</td>\n",
       "      <td>Polo Ralph Lauren Men Pony Logo Classic Jacket</td>\n",
       "      <td>2</td>\n",
       "    </tr>\n",
       "    <tr>\n",
       "      <th>32</th>\n",
       "      <td>25243</td>\n",
       "      <td>Polo Ralph Lauren Big &amp; Tall Men's 3-Pack Clas...</td>\n",
       "      <td>2</td>\n",
       "    </tr>\n",
       "  </tbody>\n",
       "</table>\n",
       "</div>"
      ],
      "text/plain": [
       "       id                                               name  return_count\n",
       "0   17128  Authentic Pigment 11 oz. Pigment-Dyed Fleece C...             2\n",
       "33  25260          Harbor Bay Big & Tall 2-Pack Argyle Socks             2\n",
       "24  20573             Carhartt Men's Washed Denim Work Jeans             2\n",
       "25   2291  Anna-Kaci S/M Fit Multicoloured Graffit Inspir...             2\n",
       "26  16250         Nautica Men's Sun Drenched Colorblock Polo             2\n",
       "27  24000                 Men's Kuhl Spy Wool Sweater Jacket             2\n",
       "28   8268  HALSTON HERITAGE Women's Oversized Double Face...             2\n",
       "29  19114               Pendleton Men's Argyle Cardigan Vest             2\n",
       "30  24185     Polo Ralph Lauren Men Pony Logo Classic Jacket             2\n",
       "32  25243  Polo Ralph Lauren Big & Tall Men's 3-Pack Clas...             2"
      ]
     },
     "execution_count": 26,
     "metadata": {},
     "output_type": "execute_result"
    }
   ],
   "source": [
    "# Filter order yang berstatus 'Returned'\n",
    "returned_orders = order[order['status'] == 'Returned']\n",
    "\n",
    "# Gabungkan order_items dengan order yang diretur\n",
    "returned_items = order_items.merge(returned_orders[['order_id']], on='order_id', how='inner')\n",
    "\n",
    "# Gabungkan returned_items dengan product untuk mendapatkan informasi brand\n",
    "returned_items = returned_items.merge(\n",
    "    product[['id', 'brand']], \n",
    "    left_on='product_id', \n",
    "    right_on='id'\n",
    ")\n",
    "\n",
    "# Hapus kolom id yang duplikat\n",
    "returned_items = returned_items.drop(['id_x','id_y'], axis=1)\n",
    "\n",
    "# Hitung jumlah retur per produk\n",
    "returned_product_counts = returned_items['product_id'].value_counts().reset_index()\n",
    "returned_product_counts.columns = ['product_id', 'return_count']\n",
    "\n",
    "# Gabungkan dengan produk untuk mendapatkan nama produk\n",
    "returned_product_details = returned_product_counts.merge(product, left_on='product_id', right_on='id', how='left')\n",
    "\n",
    "# Ambil 10 produk dengan retur terbanyak\n",
    "top_returned_products = returned_product_details[['id', 'name', 'return_count']].sort_values(by='return_count', ascending=False).head(10)\n",
    "\n",
    "\n",
    "top_returned_products\n"
   ]
  },
  {
   "cell_type": "markdown",
   "metadata": {},
   "source": [
    "Jumlah pengembalian berdasarkan product relatif sama, sehingga tidak ada issue berkaitan kualitas suatu product."
   ]
  },
  {
   "cell_type": "code",
   "execution_count": 27,
   "metadata": {},
   "outputs": [
    {
     "data": {
      "text/html": [
       "<div>\n",
       "<style scoped>\n",
       "    .dataframe tbody tr th:only-of-type {\n",
       "        vertical-align: middle;\n",
       "    }\n",
       "\n",
       "    .dataframe tbody tr th {\n",
       "        vertical-align: top;\n",
       "    }\n",
       "\n",
       "    .dataframe thead th {\n",
       "        text-align: right;\n",
       "    }\n",
       "</style>\n",
       "<table border=\"1\" class=\"dataframe\">\n",
       "  <thead>\n",
       "    <tr style=\"text-align: right;\">\n",
       "      <th></th>\n",
       "      <th>index</th>\n",
       "      <th>brand</th>\n",
       "      <th>return_count</th>\n",
       "      <th>avg_price</th>\n",
       "      <th>total_orders</th>\n",
       "      <th>return_rate</th>\n",
       "    </tr>\n",
       "  </thead>\n",
       "  <tbody>\n",
       "    <tr>\n",
       "      <th>0</th>\n",
       "      <td>32</td>\n",
       "      <td>Allegra K</td>\n",
       "      <td>49</td>\n",
       "      <td>13.457959</td>\n",
       "      <td>536</td>\n",
       "      <td>9.141791</td>\n",
       "    </tr>\n",
       "    <tr>\n",
       "      <th>1</th>\n",
       "      <td>111</td>\n",
       "      <td>Calvin Klein</td>\n",
       "      <td>24</td>\n",
       "      <td>54.612917</td>\n",
       "      <td>280</td>\n",
       "      <td>8.571429</td>\n",
       "    </tr>\n",
       "    <tr>\n",
       "      <th>2</th>\n",
       "      <td>118</td>\n",
       "      <td>Carhartt</td>\n",
       "      <td>21</td>\n",
       "      <td>84.461905</td>\n",
       "      <td>232</td>\n",
       "      <td>9.051724</td>\n",
       "    </tr>\n",
       "    <tr>\n",
       "      <th>3</th>\n",
       "      <td>375</td>\n",
       "      <td>Levi's</td>\n",
       "      <td>20</td>\n",
       "      <td>62.616000</td>\n",
       "      <td>157</td>\n",
       "      <td>12.738854</td>\n",
       "    </tr>\n",
       "    <tr>\n",
       "      <th>4</th>\n",
       "      <td>437</td>\n",
       "      <td>Nautica</td>\n",
       "      <td>20</td>\n",
       "      <td>48.438000</td>\n",
       "      <td>171</td>\n",
       "      <td>11.695906</td>\n",
       "    </tr>\n",
       "    <tr>\n",
       "      <th>5</th>\n",
       "      <td>653</td>\n",
       "      <td>Volcom</td>\n",
       "      <td>19</td>\n",
       "      <td>43.872632</td>\n",
       "      <td>196</td>\n",
       "      <td>9.693878</td>\n",
       "    </tr>\n",
       "    <tr>\n",
       "      <th>6</th>\n",
       "      <td>276</td>\n",
       "      <td>Hanes</td>\n",
       "      <td>18</td>\n",
       "      <td>19.497778</td>\n",
       "      <td>189</td>\n",
       "      <td>9.523810</td>\n",
       "    </tr>\n",
       "    <tr>\n",
       "      <th>7</th>\n",
       "      <td>560</td>\n",
       "      <td>Speedo</td>\n",
       "      <td>14</td>\n",
       "      <td>51.722143</td>\n",
       "      <td>115</td>\n",
       "      <td>12.173913</td>\n",
       "    </tr>\n",
       "    <tr>\n",
       "      <th>8</th>\n",
       "      <td>274</td>\n",
       "      <td>Haggar</td>\n",
       "      <td>13</td>\n",
       "      <td>56.930000</td>\n",
       "      <td>88</td>\n",
       "      <td>14.772727</td>\n",
       "    </tr>\n",
       "    <tr>\n",
       "      <th>9</th>\n",
       "      <td>614</td>\n",
       "      <td>Tommy Hilfiger</td>\n",
       "      <td>13</td>\n",
       "      <td>45.146923</td>\n",
       "      <td>156</td>\n",
       "      <td>8.333333</td>\n",
       "    </tr>\n",
       "  </tbody>\n",
       "</table>\n",
       "</div>"
      ],
      "text/plain": [
       "   index           brand  return_count  avg_price  total_orders  return_rate\n",
       "0     32       Allegra K            49  13.457959           536     9.141791\n",
       "1    111    Calvin Klein            24  54.612917           280     8.571429\n",
       "2    118        Carhartt            21  84.461905           232     9.051724\n",
       "3    375          Levi's            20  62.616000           157    12.738854\n",
       "4    437         Nautica            20  48.438000           171    11.695906\n",
       "5    653          Volcom            19  43.872632           196     9.693878\n",
       "6    276           Hanes            18  19.497778           189     9.523810\n",
       "7    560          Speedo            14  51.722143           115    12.173913\n",
       "8    274          Haggar            13  56.930000            88    14.772727\n",
       "9    614  Tommy Hilfiger            13  45.146923           156     8.333333"
      ]
     },
     "execution_count": 27,
     "metadata": {},
     "output_type": "execute_result"
    }
   ],
   "source": [
    "# Analisis pengembalian per brand\n",
    "brand_returns = returned_items.groupby('brand').agg({\n",
    "    'product_id': 'count',\n",
    "    'sale_price': 'mean'\n",
    "}).reset_index()\n",
    "brand_returns.columns = ['brand', 'return_count', 'avg_price']\n",
    "\n",
    "# Hitung total order per brand\n",
    "brand_total_orders = order_items.merge(\n",
    "    product[['id', 'brand']], \n",
    "    left_on='product_id', \n",
    "    right_on='id'\n",
    ").groupby('brand').size().reset_index()\n",
    "brand_total_orders.columns = ['brand', 'total_orders']\n",
    "\n",
    "# Gabungkan data\n",
    "brand_analysis = brand_returns.merge(brand_total_orders, on='brand')\n",
    "brand_analysis['return_rate'] = (brand_analysis['return_count'] / brand_analysis['total_orders']) * 100\n",
    "\n",
    "# Urutkan berdasarkan return rate\n",
    "brand_analysis = brand_analysis.sort_values('return_count', ascending=False).reset_index()\n",
    "brand_analysis.head(10)"
   ]
  },
  {
   "cell_type": "markdown",
   "metadata": {},
   "source": [
    "Terdapat brand dengan jumlah pengembalian cukup besar namun tergolong masih wajar jika dilihat dari return ratenya."
   ]
  },
  {
   "cell_type": "code",
   "execution_count": 28,
   "metadata": {},
   "outputs": [
    {
     "data": {
      "text/html": [
       "<div>\n",
       "<style scoped>\n",
       "    .dataframe tbody tr th:only-of-type {\n",
       "        vertical-align: middle;\n",
       "    }\n",
       "\n",
       "    .dataframe tbody tr th {\n",
       "        vertical-align: top;\n",
       "    }\n",
       "\n",
       "    .dataframe thead th {\n",
       "        text-align: right;\n",
       "    }\n",
       "</style>\n",
       "<table border=\"1\" class=\"dataframe\">\n",
       "  <thead>\n",
       "    <tr style=\"text-align: right;\">\n",
       "      <th></th>\n",
       "      <th>category</th>\n",
       "      <th>count</th>\n",
       "    </tr>\n",
       "  </thead>\n",
       "  <tbody>\n",
       "    <tr>\n",
       "      <th>0</th>\n",
       "      <td>Tops &amp; Tees</td>\n",
       "      <td>110</td>\n",
       "    </tr>\n",
       "    <tr>\n",
       "      <th>1</th>\n",
       "      <td>Jeans</td>\n",
       "      <td>105</td>\n",
       "    </tr>\n",
       "    <tr>\n",
       "      <th>2</th>\n",
       "      <td>Shorts</td>\n",
       "      <td>104</td>\n",
       "    </tr>\n",
       "    <tr>\n",
       "      <th>3</th>\n",
       "      <td>Intimates</td>\n",
       "      <td>103</td>\n",
       "    </tr>\n",
       "    <tr>\n",
       "      <th>4</th>\n",
       "      <td>Sleep &amp; Lounge</td>\n",
       "      <td>97</td>\n",
       "    </tr>\n",
       "    <tr>\n",
       "      <th>5</th>\n",
       "      <td>Swim</td>\n",
       "      <td>96</td>\n",
       "    </tr>\n",
       "    <tr>\n",
       "      <th>6</th>\n",
       "      <td>Accessories</td>\n",
       "      <td>95</td>\n",
       "    </tr>\n",
       "    <tr>\n",
       "      <th>7</th>\n",
       "      <td>Fashion Hoodies &amp; Sweatshirts</td>\n",
       "      <td>87</td>\n",
       "    </tr>\n",
       "    <tr>\n",
       "      <th>8</th>\n",
       "      <td>Sweaters</td>\n",
       "      <td>86</td>\n",
       "    </tr>\n",
       "    <tr>\n",
       "      <th>9</th>\n",
       "      <td>Active</td>\n",
       "      <td>77</td>\n",
       "    </tr>\n",
       "  </tbody>\n",
       "</table>\n",
       "</div>"
      ],
      "text/plain": [
       "                        category  count\n",
       "0                    Tops & Tees    110\n",
       "1                          Jeans    105\n",
       "2                         Shorts    104\n",
       "3                      Intimates    103\n",
       "4                 Sleep & Lounge     97\n",
       "5                           Swim     96\n",
       "6                    Accessories     95\n",
       "7  Fashion Hoodies & Sweatshirts     87\n",
       "8                       Sweaters     86\n",
       "9                         Active     77"
      ]
     },
     "execution_count": 28,
     "metadata": {},
     "output_type": "execute_result"
    }
   ],
   "source": [
    "category_analysis = returned_product_details['category'].value_counts().reset_index()\n",
    "category_analysis.head(10)"
   ]
  },
  {
   "cell_type": "markdown",
   "metadata": {},
   "source": [
    "Terdapat category atau tipe product yang cenderung lebih tinggi jumlah pengembaliannya."
   ]
  },
  {
   "cell_type": "code",
   "execution_count": 29,
   "metadata": {},
   "outputs": [
    {
     "name": "stdout",
     "output_type": "stream",
     "text": [
      "Statistik sale_price:\n",
      "count    16312.000000\n",
      "mean        60.549077\n",
      "std         68.749456\n",
      "min          1.500000\n",
      "25%         24.950001\n",
      "50%         39.995001\n",
      "75%         69.989998\n",
      "max        999.000000\n",
      "Name: sale_price, dtype: float64\n"
     ]
    }
   ],
   "source": [
    "# Analisis distribusi sale_price\n",
    "sale_price_stats = order_items['sale_price'].describe()\n",
    "print(\"Statistik sale_price:\")\n",
    "print(sale_price_stats)\n",
    "\n",
    "# Tentukan threshold berdasarkan quartile\n",
    "q1 = sale_price_stats['25%']\n",
    "q3 = sale_price_stats['75%']\n",
    "\n",
    "# Tambahkan kolom status harga\n",
    "returned_items['price_status'] = pd.cut(\n",
    "    returned_items['sale_price'],\n",
    "    bins=[0, q1, q3, float('inf')],\n",
    "    labels=['Murah', 'Sedang', 'Mahal']\n",
    ")"
   ]
  },
  {
   "cell_type": "code",
   "execution_count": 30,
   "metadata": {},
   "outputs": [
    {
     "data": {
      "text/html": [
       "<div>\n",
       "<style scoped>\n",
       "    .dataframe tbody tr th:only-of-type {\n",
       "        vertical-align: middle;\n",
       "    }\n",
       "\n",
       "    .dataframe tbody tr th {\n",
       "        vertical-align: top;\n",
       "    }\n",
       "\n",
       "    .dataframe thead th {\n",
       "        text-align: right;\n",
       "    }\n",
       "</style>\n",
       "<table border=\"1\" class=\"dataframe\">\n",
       "  <thead>\n",
       "    <tr style=\"text-align: right;\">\n",
       "      <th></th>\n",
       "      <th>price_status</th>\n",
       "      <th>count</th>\n",
       "    </tr>\n",
       "  </thead>\n",
       "  <tbody>\n",
       "    <tr>\n",
       "      <th>0</th>\n",
       "      <td>Sedang</td>\n",
       "      <td>753</td>\n",
       "    </tr>\n",
       "    <tr>\n",
       "      <th>1</th>\n",
       "      <td>Mahal</td>\n",
       "      <td>412</td>\n",
       "    </tr>\n",
       "    <tr>\n",
       "      <th>2</th>\n",
       "      <td>Murah</td>\n",
       "      <td>390</td>\n",
       "    </tr>\n",
       "  </tbody>\n",
       "</table>\n",
       "</div>"
      ],
      "text/plain": [
       "  price_status  count\n",
       "0       Sedang    753\n",
       "1        Mahal    412\n",
       "2        Murah    390"
      ]
     },
     "execution_count": 30,
     "metadata": {},
     "output_type": "execute_result"
    }
   ],
   "source": [
    "price_analysis = returned_items['price_status'].value_counts().reset_index()\n",
    "price_analysis"
   ]
  },
  {
   "cell_type": "markdown",
   "metadata": {},
   "source": [
    "#### Analisa Pengembalian Product\n",
    "- Masalah pengembalian tidak berkorelasi pada brand.\n",
    "- Ada korelasi antara tipe produk (seperti pakaian atas dan jeans) dengan tingkat pengembalian, terdapat kemungkinan terkait dengan masalah ukuran dan fit.\n",
    "- Harga produk bukan faktor utama dalam pengembalian, karena produk dengan harga menengah justru memiliki jumlah pengembalian tertinggi"
   ]
  },
  {
   "cell_type": "markdown",
   "metadata": {},
   "source": [
    "<h3>3. Stock Turnover</h3>"
   ]
  },
  {
   "cell_type": "code",
   "execution_count": 31,
   "metadata": {},
   "outputs": [],
   "source": [
    "max_date = inventory_item['created_at'].max() + pd.Timedelta(days=1)\n",
    "\n",
    "# Hitung umur stok (dalam hari)\n",
    "inventory_item['stock_age'] = (max_date - inventory_item['created_at']).dt.days"
   ]
  },
  {
   "cell_type": "code",
   "execution_count": 32,
   "metadata": {},
   "outputs": [
    {
     "name": "stdout",
     "output_type": "stream",
     "text": [
      "\n",
      "Uji ANOVA untuk Perbedaan Kategori:\n",
      "F-statistic: 0.49830713067383503, p-value: 0.9824669965405562\n"
     ]
    }
   ],
   "source": [
    "# Uji ANOVA untuk perbedaan kategori\n",
    "categories = inventory_item['product_category'].unique()\n",
    "category_groups = [inventory_item[inventory_item['product_category'] == cat]['stock_age'] for cat in categories]\n",
    "f_stat, p_value = f_oneway(*category_groups)\n",
    "print(\"\\nUji ANOVA untuk Perbedaan Kategori:\")\n",
    "print(f\"F-statistic: {f_stat}, p-value: {p_value}\")"
   ]
  },
  {
   "cell_type": "markdown",
   "metadata": {},
   "source": [
    "Hasil ANOVA yaitu p-value >= 0.05, H0 ditolak. Sehingga tidak ada perbedaan signifikan umur antar category product"
   ]
  },
  {
   "cell_type": "markdown",
   "metadata": {},
   "source": [
    "Untuk mengetahui kecepatan perputaran persediaan product perlu dilakukan perhitungan stock turnover agar supply chain lebih efisien"
   ]
  },
  {
   "cell_type": "code",
   "execution_count": 33,
   "metadata": {},
   "outputs": [],
   "source": [
    "# 1. Gabungkan inventory_item dengan product\n",
    "stock_data = inventory_item.merge(\n",
    "    product[['id', 'category']],\n",
    "    left_on='product_id',\n",
    "    right_on='id'\n",
    ")\n",
    "# Hapus kolom id yang duplikat\n",
    "stock_data = stock_data.drop(['id_x','id_y'], axis=1)\n",
    "\n",
    "# 2. Hitung Total Quantity Sold per Product\n",
    "# Gabungkan order_item dengan product untuk mendapatkan quantity sold\n",
    "sales_data = order_items.merge(\n",
    "    product[['id', 'category']],\n",
    "    left_on='product_id',\n",
    "    right_on='id'\n",
    ")\n",
    "# Hapus kolom id yang duplikat\n",
    "sales_data = sales_data.drop(['id_x','id_y'], axis=1)\n",
    "\n",
    "# Hitung total quantity sold per product\n",
    "total_sold = sales_data['product_id'].value_counts().reset_index(name='sold')"
   ]
  },
  {
   "cell_type": "code",
   "execution_count": 34,
   "metadata": {},
   "outputs": [
    {
     "data": {
      "text/html": [
       "<div>\n",
       "<style scoped>\n",
       "    .dataframe tbody tr th:only-of-type {\n",
       "        vertical-align: middle;\n",
       "    }\n",
       "\n",
       "    .dataframe tbody tr th {\n",
       "        vertical-align: top;\n",
       "    }\n",
       "\n",
       "    .dataframe thead th {\n",
       "        text-align: right;\n",
       "    }\n",
       "</style>\n",
       "<table border=\"1\" class=\"dataframe\">\n",
       "  <thead>\n",
       "    <tr style=\"text-align: right;\">\n",
       "      <th></th>\n",
       "      <th>product_id</th>\n",
       "      <th>sold</th>\n",
       "      <th>available_quantity</th>\n",
       "      <th>stock_turnover_ratio</th>\n",
       "      <th>product_category</th>\n",
       "      <th>product_brand</th>\n",
       "    </tr>\n",
       "  </thead>\n",
       "  <tbody>\n",
       "    <tr>\n",
       "      <th>0</th>\n",
       "      <td>27998</td>\n",
       "      <td>5</td>\n",
       "      <td>4.0</td>\n",
       "      <td>1.25</td>\n",
       "      <td>Swim</td>\n",
       "      <td>Body Glove</td>\n",
       "    </tr>\n",
       "    <tr>\n",
       "      <th>9</th>\n",
       "      <td>24334</td>\n",
       "      <td>5</td>\n",
       "      <td>NaN</td>\n",
       "      <td>NaN</td>\n",
       "      <td>Outerwear &amp; Coats</td>\n",
       "      <td>Dickies</td>\n",
       "    </tr>\n",
       "    <tr>\n",
       "      <th>14</th>\n",
       "      <td>19728</td>\n",
       "      <td>5</td>\n",
       "      <td>2.0</td>\n",
       "      <td>2.50</td>\n",
       "      <td>Sweaters</td>\n",
       "      <td>Crazy Granny</td>\n",
       "    </tr>\n",
       "    <tr>\n",
       "      <th>20</th>\n",
       "      <td>16926</td>\n",
       "      <td>5</td>\n",
       "      <td>1.0</td>\n",
       "      <td>5.00</td>\n",
       "      <td>Tops &amp; Tees</td>\n",
       "      <td>Pacific Legend</td>\n",
       "    </tr>\n",
       "    <tr>\n",
       "      <th>27</th>\n",
       "      <td>20956</td>\n",
       "      <td>5</td>\n",
       "      <td>NaN</td>\n",
       "      <td>NaN</td>\n",
       "      <td>Jeans</td>\n",
       "      <td>Joe's Jeans</td>\n",
       "    </tr>\n",
       "    <tr>\n",
       "      <th>...</th>\n",
       "      <td>...</td>\n",
       "      <td>...</td>\n",
       "      <td>...</td>\n",
       "      <td>...</td>\n",
       "      <td>...</td>\n",
       "      <td>...</td>\n",
       "    </tr>\n",
       "    <tr>\n",
       "      <th>29118</th>\n",
       "      <td>25907</td>\n",
       "      <td>1</td>\n",
       "      <td>NaN</td>\n",
       "      <td>NaN</td>\n",
       "      <td>Underwear</td>\n",
       "      <td>Hanes</td>\n",
       "    </tr>\n",
       "    <tr>\n",
       "      <th>29119</th>\n",
       "      <td>18643</td>\n",
       "      <td>1</td>\n",
       "      <td>1.0</td>\n",
       "      <td>1.00</td>\n",
       "      <td>Active</td>\n",
       "      <td>Charles River Apparel</td>\n",
       "    </tr>\n",
       "    <tr>\n",
       "      <th>29121</th>\n",
       "      <td>2284</td>\n",
       "      <td>1</td>\n",
       "      <td>NaN</td>\n",
       "      <td>NaN</td>\n",
       "      <td>Fashion Hoodies &amp; Sweatshirts</td>\n",
       "      <td>Anna-Kaci</td>\n",
       "    </tr>\n",
       "    <tr>\n",
       "      <th>29122</th>\n",
       "      <td>8687</td>\n",
       "      <td>1</td>\n",
       "      <td>1.0</td>\n",
       "      <td>1.00</td>\n",
       "      <td>Outerwear &amp; Coats</td>\n",
       "      <td>Allegra K</td>\n",
       "    </tr>\n",
       "    <tr>\n",
       "      <th>29123</th>\n",
       "      <td>24447</td>\n",
       "      <td>1</td>\n",
       "      <td>2.0</td>\n",
       "      <td>0.50</td>\n",
       "      <td>Outerwear &amp; Coats</td>\n",
       "      <td>Alpha Industries</td>\n",
       "    </tr>\n",
       "  </tbody>\n",
       "</table>\n",
       "<p>11994 rows × 6 columns</p>\n",
       "</div>"
      ],
      "text/plain": [
       "       product_id  sold  available_quantity  stock_turnover_ratio  \\\n",
       "0           27998     5                 4.0                  1.25   \n",
       "9           24334     5                 NaN                   NaN   \n",
       "14          19728     5                 2.0                  2.50   \n",
       "20          16926     5                 1.0                  5.00   \n",
       "27          20956     5                 NaN                   NaN   \n",
       "...           ...   ...                 ...                   ...   \n",
       "29118       25907     1                 NaN                   NaN   \n",
       "29119       18643     1                 1.0                  1.00   \n",
       "29121        2284     1                 NaN                   NaN   \n",
       "29122        8687     1                 1.0                  1.00   \n",
       "29123       24447     1                 2.0                  0.50   \n",
       "\n",
       "                    product_category          product_brand  \n",
       "0                               Swim             Body Glove  \n",
       "9                  Outerwear & Coats                Dickies  \n",
       "14                          Sweaters           Crazy Granny  \n",
       "20                       Tops & Tees         Pacific Legend  \n",
       "27                             Jeans            Joe's Jeans  \n",
       "...                              ...                    ...  \n",
       "29118                      Underwear                  Hanes  \n",
       "29119                         Active  Charles River Apparel  \n",
       "29121  Fashion Hoodies & Sweatshirts              Anna-Kaci  \n",
       "29122              Outerwear & Coats              Allegra K  \n",
       "29123              Outerwear & Coats       Alpha Industries  \n",
       "\n",
       "[11994 rows x 6 columns]"
      ]
     },
     "execution_count": 34,
     "metadata": {},
     "output_type": "execute_result"
    }
   ],
   "source": [
    "# 3. Hitung Available Quantity per Product\n",
    "available_stock = stock_data[stock_data['sold_at'].isnull()]\n",
    "available_quantity = available_stock['product_id'].value_counts().reset_index(name='available_quantity')\n",
    "\n",
    "# 4. Gabungkan Total Sold dan Available Quantity\n",
    "turnover_data = total_sold.merge(\n",
    "    available_quantity,\n",
    "    on='product_id',\n",
    "    how='left'\n",
    ")\n",
    "\n",
    "# 5. Hitung Stock Turnover Ratio\n",
    "turnover_data['stock_turnover_ratio'] = turnover_data['sold'] / turnover_data['available_quantity']\n",
    "turnover_data = turnover_data.merge(\n",
    "    inventory_item[['product_id', 'product_category', 'product_brand']],\n",
    "    left_on='product_id',\n",
    "    right_on='product_id',\n",
    "    how='inner'\n",
    ").drop_duplicates(subset=['product_id'])\n",
    "turnover_data"
   ]
  },
  {
   "cell_type": "markdown",
   "metadata": {},
   "source": [
    "<h4>3.1 Stock Turnover per Category Terlaris</h4>"
   ]
  },
  {
   "cell_type": "code",
   "execution_count": 35,
   "metadata": {},
   "outputs": [
    {
     "data": {
      "text/html": [
       "<div>\n",
       "<style scoped>\n",
       "    .dataframe tbody tr th:only-of-type {\n",
       "        vertical-align: middle;\n",
       "    }\n",
       "\n",
       "    .dataframe tbody tr th {\n",
       "        vertical-align: top;\n",
       "    }\n",
       "\n",
       "    .dataframe thead th {\n",
       "        text-align: right;\n",
       "    }\n",
       "</style>\n",
       "<table border=\"1\" class=\"dataframe\">\n",
       "  <thead>\n",
       "    <tr style=\"text-align: right;\">\n",
       "      <th></th>\n",
       "      <th>category</th>\n",
       "      <th>count</th>\n",
       "    </tr>\n",
       "  </thead>\n",
       "  <tbody>\n",
       "    <tr>\n",
       "      <th>0</th>\n",
       "      <td>Intimates</td>\n",
       "      <td>1151</td>\n",
       "    </tr>\n",
       "    <tr>\n",
       "      <th>1</th>\n",
       "      <td>Jeans</td>\n",
       "      <td>1144</td>\n",
       "    </tr>\n",
       "    <tr>\n",
       "      <th>2</th>\n",
       "      <td>Tops &amp; Tees</td>\n",
       "      <td>1104</td>\n",
       "    </tr>\n",
       "    <tr>\n",
       "      <th>3</th>\n",
       "      <td>Fashion Hoodies &amp; Sweatshirts</td>\n",
       "      <td>1060</td>\n",
       "    </tr>\n",
       "    <tr>\n",
       "      <th>4</th>\n",
       "      <td>Swim</td>\n",
       "      <td>1048</td>\n",
       "    </tr>\n",
       "    <tr>\n",
       "      <th>5</th>\n",
       "      <td>Sleep &amp; Lounge</td>\n",
       "      <td>1042</td>\n",
       "    </tr>\n",
       "    <tr>\n",
       "      <th>6</th>\n",
       "      <td>Shorts</td>\n",
       "      <td>1032</td>\n",
       "    </tr>\n",
       "    <tr>\n",
       "      <th>7</th>\n",
       "      <td>Sweaters</td>\n",
       "      <td>1000</td>\n",
       "    </tr>\n",
       "    <tr>\n",
       "      <th>8</th>\n",
       "      <td>Accessories</td>\n",
       "      <td>891</td>\n",
       "    </tr>\n",
       "    <tr>\n",
       "      <th>9</th>\n",
       "      <td>Active</td>\n",
       "      <td>845</td>\n",
       "    </tr>\n",
       "  </tbody>\n",
       "</table>\n",
       "</div>"
      ],
      "text/plain": [
       "                        category  count\n",
       "0                      Intimates   1151\n",
       "1                          Jeans   1144\n",
       "2                    Tops & Tees   1104\n",
       "3  Fashion Hoodies & Sweatshirts   1060\n",
       "4                           Swim   1048\n",
       "5                 Sleep & Lounge   1042\n",
       "6                         Shorts   1032\n",
       "7                       Sweaters   1000\n",
       "8                    Accessories    891\n",
       "9                         Active    845"
      ]
     },
     "execution_count": 35,
     "metadata": {},
     "output_type": "execute_result"
    }
   ],
   "source": [
    "# Gabungkan order_items dengan products\n",
    "order_product = order_items.merge(\n",
    "    product[['id', 'category']],\n",
    "    left_on='product_id',\n",
    "    right_on='id'\n",
    ")\n",
    "# Hapus kolom id yang duplikat\n",
    "order_product = order_product.drop(['id_x','id_y'], axis=1)\n",
    "\n",
    "rank_top10_category = order_product['category'].value_counts().head(10).reset_index()\n",
    "rank_top10_category"
   ]
  },
  {
   "cell_type": "code",
   "execution_count": 36,
   "metadata": {},
   "outputs": [
    {
     "data": {
      "text/html": [
       "<div>\n",
       "<style scoped>\n",
       "    .dataframe tbody tr th:only-of-type {\n",
       "        vertical-align: middle;\n",
       "    }\n",
       "\n",
       "    .dataframe tbody tr th {\n",
       "        vertical-align: top;\n",
       "    }\n",
       "\n",
       "    .dataframe thead th {\n",
       "        text-align: right;\n",
       "    }\n",
       "</style>\n",
       "<table border=\"1\" class=\"dataframe\">\n",
       "  <thead>\n",
       "    <tr style=\"text-align: right;\">\n",
       "      <th></th>\n",
       "      <th>available_quantity</th>\n",
       "      <th>sold</th>\n",
       "      <th>stock_turnover_ratio</th>\n",
       "    </tr>\n",
       "    <tr>\n",
       "      <th>product_category</th>\n",
       "      <th></th>\n",
       "      <th></th>\n",
       "      <th></th>\n",
       "    </tr>\n",
       "  </thead>\n",
       "  <tbody>\n",
       "    <tr>\n",
       "      <th>Tops &amp; Tees</th>\n",
       "      <td>979.0</td>\n",
       "      <td>1075</td>\n",
       "      <td>0.983781</td>\n",
       "    </tr>\n",
       "    <tr>\n",
       "      <th>Sleep &amp; Lounge</th>\n",
       "      <td>883.0</td>\n",
       "      <td>1018</td>\n",
       "      <td>0.971150</td>\n",
       "    </tr>\n",
       "    <tr>\n",
       "      <th>Fashion Hoodies &amp; Sweatshirts</th>\n",
       "      <td>914.0</td>\n",
       "      <td>1024</td>\n",
       "      <td>0.967272</td>\n",
       "    </tr>\n",
       "    <tr>\n",
       "      <th>Accessories</th>\n",
       "      <td>746.0</td>\n",
       "      <td>857</td>\n",
       "      <td>0.967041</td>\n",
       "    </tr>\n",
       "    <tr>\n",
       "      <th>Shorts</th>\n",
       "      <td>884.0</td>\n",
       "      <td>999</td>\n",
       "      <td>0.965353</td>\n",
       "    </tr>\n",
       "    <tr>\n",
       "      <th>Intimates</th>\n",
       "      <td>863.0</td>\n",
       "      <td>1107</td>\n",
       "      <td>0.961059</td>\n",
       "    </tr>\n",
       "    <tr>\n",
       "      <th>Active</th>\n",
       "      <td>756.0</td>\n",
       "      <td>823</td>\n",
       "      <td>0.948270</td>\n",
       "    </tr>\n",
       "    <tr>\n",
       "      <th>Sweaters</th>\n",
       "      <td>889.0</td>\n",
       "      <td>980</td>\n",
       "      <td>0.947149</td>\n",
       "    </tr>\n",
       "    <tr>\n",
       "      <th>Swim</th>\n",
       "      <td>897.0</td>\n",
       "      <td>1027</td>\n",
       "      <td>0.946371</td>\n",
       "    </tr>\n",
       "    <tr>\n",
       "      <th>Jeans</th>\n",
       "      <td>1003.0</td>\n",
       "      <td>1114</td>\n",
       "      <td>0.934044</td>\n",
       "    </tr>\n",
       "  </tbody>\n",
       "</table>\n",
       "</div>"
      ],
      "text/plain": [
       "                               available_quantity  sold  stock_turnover_ratio\n",
       "product_category                                                             \n",
       "Tops & Tees                                 979.0  1075              0.983781\n",
       "Sleep & Lounge                              883.0  1018              0.971150\n",
       "Fashion Hoodies & Sweatshirts               914.0  1024              0.967272\n",
       "Accessories                                 746.0   857              0.967041\n",
       "Shorts                                      884.0   999              0.965353\n",
       "Intimates                                   863.0  1107              0.961059\n",
       "Active                                      756.0   823              0.948270\n",
       "Sweaters                                    889.0   980              0.947149\n",
       "Swim                                        897.0  1027              0.946371\n",
       "Jeans                                      1003.0  1114              0.934044"
      ]
     },
     "execution_count": 36,
     "metadata": {},
     "output_type": "execute_result"
    }
   ],
   "source": [
    "list_category = rank_top10_category['category'].tolist()\n",
    "\n",
    "#Mengambil data inventory sesuai dengan top 10 category\n",
    "selected_category_st = turnover_data[turnover_data['product_category'].isin(list_category)]\n",
    "top10_category_st = selected_category_st.groupby('product_category').agg({\n",
    "    'available_quantity':'sum',\n",
    "    'sold':'sum',\n",
    "    'stock_turnover_ratio':'mean'\n",
    "})\n",
    "top10_category_st.sort_values('stock_turnover_ratio', ascending=False)"
   ]
  },
  {
   "cell_type": "markdown",
   "metadata": {},
   "source": [
    "Kategori Sleep & Lounge dan Top&Teens memiliki perputaran stok terbaik, sementara kategori Swim dan Jeans menjadi terendah dalam perputaran stock. Walaupun silisihnya tidak begitu signifikan."
   ]
  },
  {
   "cell_type": "markdown",
   "metadata": {},
   "source": [
    "<h4>3.2 Stock Turnover per Brand Terlaris</h4>"
   ]
  },
  {
   "cell_type": "code",
   "execution_count": 37,
   "metadata": {},
   "outputs": [
    {
     "data": {
      "text/html": [
       "<div>\n",
       "<style scoped>\n",
       "    .dataframe tbody tr th:only-of-type {\n",
       "        vertical-align: middle;\n",
       "    }\n",
       "\n",
       "    .dataframe tbody tr th {\n",
       "        vertical-align: top;\n",
       "    }\n",
       "\n",
       "    .dataframe thead th {\n",
       "        text-align: right;\n",
       "    }\n",
       "</style>\n",
       "<table border=\"1\" class=\"dataframe\">\n",
       "  <thead>\n",
       "    <tr style=\"text-align: right;\">\n",
       "      <th></th>\n",
       "      <th>product_brand</th>\n",
       "      <th>count</th>\n",
       "    </tr>\n",
       "  </thead>\n",
       "  <tbody>\n",
       "    <tr>\n",
       "      <th>0</th>\n",
       "      <td>Allegra K</td>\n",
       "      <td>1389</td>\n",
       "    </tr>\n",
       "    <tr>\n",
       "      <th>1</th>\n",
       "      <td>Calvin Klein</td>\n",
       "      <td>709</td>\n",
       "    </tr>\n",
       "    <tr>\n",
       "      <th>2</th>\n",
       "      <td>Carhartt</td>\n",
       "      <td>627</td>\n",
       "    </tr>\n",
       "    <tr>\n",
       "      <th>3</th>\n",
       "      <td>Volcom</td>\n",
       "      <td>607</td>\n",
       "    </tr>\n",
       "    <tr>\n",
       "      <th>4</th>\n",
       "      <td>Nautica</td>\n",
       "      <td>520</td>\n",
       "    </tr>\n",
       "    <tr>\n",
       "      <th>5</th>\n",
       "      <td>Hanes</td>\n",
       "      <td>456</td>\n",
       "    </tr>\n",
       "    <tr>\n",
       "      <th>6</th>\n",
       "      <td>Levi's</td>\n",
       "      <td>442</td>\n",
       "    </tr>\n",
       "    <tr>\n",
       "      <th>7</th>\n",
       "      <td>Dockers</td>\n",
       "      <td>419</td>\n",
       "    </tr>\n",
       "    <tr>\n",
       "      <th>8</th>\n",
       "      <td>Tommy Hilfiger</td>\n",
       "      <td>412</td>\n",
       "    </tr>\n",
       "    <tr>\n",
       "      <th>9</th>\n",
       "      <td>Quiksilver</td>\n",
       "      <td>406</td>\n",
       "    </tr>\n",
       "  </tbody>\n",
       "</table>\n",
       "</div>"
      ],
      "text/plain": [
       "    product_brand  count\n",
       "0       Allegra K   1389\n",
       "1    Calvin Klein    709\n",
       "2        Carhartt    627\n",
       "3          Volcom    607\n",
       "4         Nautica    520\n",
       "5           Hanes    456\n",
       "6          Levi's    442\n",
       "7         Dockers    419\n",
       "8  Tommy Hilfiger    412\n",
       "9      Quiksilver    406"
      ]
     },
     "execution_count": 37,
     "metadata": {},
     "output_type": "execute_result"
    }
   ],
   "source": [
    "#menggabungkan order item, product, dan inventory item\n",
    "order_product_inventory = order_product.merge(\n",
    "    inventory_item[['product_id', 'product_brand']],\n",
    "    on='product_id'\n",
    ")\n",
    "top10_brand = order_product_inventory['product_brand'].value_counts().head(10).reset_index()\n",
    "top10_brand"
   ]
  },
  {
   "cell_type": "code",
   "execution_count": 38,
   "metadata": {},
   "outputs": [
    {
     "data": {
      "text/html": [
       "<div>\n",
       "<style scoped>\n",
       "    .dataframe tbody tr th:only-of-type {\n",
       "        vertical-align: middle;\n",
       "    }\n",
       "\n",
       "    .dataframe tbody tr th {\n",
       "        vertical-align: top;\n",
       "    }\n",
       "\n",
       "    .dataframe thead th {\n",
       "        text-align: right;\n",
       "    }\n",
       "</style>\n",
       "<table border=\"1\" class=\"dataframe\">\n",
       "  <thead>\n",
       "    <tr style=\"text-align: right;\">\n",
       "      <th></th>\n",
       "      <th>available_quantity</th>\n",
       "      <th>sold</th>\n",
       "      <th>stock_turnover_ratio</th>\n",
       "    </tr>\n",
       "    <tr>\n",
       "      <th>product_brand</th>\n",
       "      <th></th>\n",
       "      <th></th>\n",
       "      <th></th>\n",
       "    </tr>\n",
       "  </thead>\n",
       "  <tbody>\n",
       "    <tr>\n",
       "      <th>Nautica</th>\n",
       "      <td>168.0</td>\n",
       "      <td>170</td>\n",
       "      <td>1.037993</td>\n",
       "    </tr>\n",
       "    <tr>\n",
       "      <th>Levi's</th>\n",
       "      <td>134.0</td>\n",
       "      <td>150</td>\n",
       "      <td>1.035088</td>\n",
       "    </tr>\n",
       "    <tr>\n",
       "      <th>Carhartt</th>\n",
       "      <td>199.0</td>\n",
       "      <td>226</td>\n",
       "      <td>1.019306</td>\n",
       "    </tr>\n",
       "    <tr>\n",
       "      <th>Volcom</th>\n",
       "      <td>176.0</td>\n",
       "      <td>194</td>\n",
       "      <td>1.016495</td>\n",
       "    </tr>\n",
       "    <tr>\n",
       "      <th>Quiksilver</th>\n",
       "      <td>117.0</td>\n",
       "      <td>160</td>\n",
       "      <td>1.008784</td>\n",
       "    </tr>\n",
       "    <tr>\n",
       "      <th>Calvin Klein</th>\n",
       "      <td>222.0</td>\n",
       "      <td>279</td>\n",
       "      <td>0.985012</td>\n",
       "    </tr>\n",
       "    <tr>\n",
       "      <th>Tommy Hilfiger</th>\n",
       "      <td>139.0</td>\n",
       "      <td>151</td>\n",
       "      <td>0.960823</td>\n",
       "    </tr>\n",
       "    <tr>\n",
       "      <th>Allegra K</th>\n",
       "      <td>466.0</td>\n",
       "      <td>520</td>\n",
       "      <td>0.927939</td>\n",
       "    </tr>\n",
       "    <tr>\n",
       "      <th>Hanes</th>\n",
       "      <td>140.0</td>\n",
       "      <td>183</td>\n",
       "      <td>0.922016</td>\n",
       "    </tr>\n",
       "    <tr>\n",
       "      <th>Dockers</th>\n",
       "      <td>154.0</td>\n",
       "      <td>132</td>\n",
       "      <td>0.829167</td>\n",
       "    </tr>\n",
       "  </tbody>\n",
       "</table>\n",
       "</div>"
      ],
      "text/plain": [
       "                available_quantity  sold  stock_turnover_ratio\n",
       "product_brand                                                 \n",
       "Nautica                      168.0   170              1.037993\n",
       "Levi's                       134.0   150              1.035088\n",
       "Carhartt                     199.0   226              1.019306\n",
       "Volcom                       176.0   194              1.016495\n",
       "Quiksilver                   117.0   160              1.008784\n",
       "Calvin Klein                 222.0   279              0.985012\n",
       "Tommy Hilfiger               139.0   151              0.960823\n",
       "Allegra K                    466.0   520              0.927939\n",
       "Hanes                        140.0   183              0.922016\n",
       "Dockers                      154.0   132              0.829167"
      ]
     },
     "execution_count": 38,
     "metadata": {},
     "output_type": "execute_result"
    }
   ],
   "source": [
    "list_top10_brand = top10_brand['product_brand'].tolist()\n",
    "\n",
    "#Mengambil data inventory sesuai dengan top 10 brand\n",
    "selected_inventory_brand = turnover_data[turnover_data['product_brand'].isin(list_top10_brand)]\n",
    "\n",
    "# Hitung stock turnover ratio per brand\n",
    "top10_brand_st = selected_inventory_brand.groupby('product_brand').agg({\n",
    "    'available_quantity':'sum',\n",
    "    'sold':'sum',\n",
    "    'stock_turnover_ratio':'mean'\n",
    "})\n",
    "top10_brand_st.sort_values('stock_turnover_ratio', ascending=False)"
   ]
  },
  {
   "cell_type": "markdown",
   "metadata": {},
   "source": [
    "Brand Noutica dan levis menunjukkan kinerja perputaran stok yang sangat baik, sementara Dockers dan Hanes perlu evaluasi strategi inventory management."
   ]
  },
  {
   "cell_type": "markdown",
   "metadata": {},
   "source": [
    "<h3>4. Stock Aging</h3>"
   ]
  },
  {
   "cell_type": "markdown",
   "metadata": {},
   "source": [
    "<h4>4.1 Stock Aging Top Category</h4>"
   ]
  },
  {
   "cell_type": "code",
   "execution_count": 39,
   "metadata": {},
   "outputs": [
    {
     "name": "stdout",
     "output_type": "stream",
     "text": [
      "\n",
      "Stock Aging per Kategori:\n",
      "           category    avg_age  median_age  max_age\n",
      "20            Suits  94.890688        98.0      180\n",
      "13   Pants & Capris  91.253239        89.0      180\n",
      "14             Plus  90.872745        92.0      180\n",
      "24      Tops & Tees  90.665066        91.0      180\n",
      "6         Intimates  90.306988        90.0      180\n",
      "17   Sleep & Lounge  90.291798        91.0      180\n",
      "22         Sweaters  90.253974        90.0      180\n",
      "19  Socks & Hosiery  90.243547        88.0      180\n",
      "1            Active  89.995759        88.0      180\n",
      "18            Socks  89.810761        91.0      180\n"
     ]
    }
   ],
   "source": [
    "\n",
    "# Analisis stock aging per kategori\n",
    "stock_aging_category = inventory_item.merge(\n",
    "    product[['id', 'category']],\n",
    "    left_on='product_id',\n",
    "    right_on='id'\n",
    ").groupby('category').agg({\n",
    "    'stock_age': ['mean', 'median', 'max']\n",
    "}).reset_index()\n",
    "\n",
    "stock_aging_category.columns = ['category', 'avg_age', 'median_age', 'max_age']\n",
    "stock_aging_category = stock_aging_category.sort_values('avg_age', ascending=False)\n",
    "print(\"\\nStock Aging per Kategori:\")\n",
    "print(stock_aging_category.head(10))"
   ]
  },
  {
   "cell_type": "markdown",
   "metadata": {},
   "source": [
    "<h4>4.2 Older Stock</h4>"
   ]
  },
  {
   "cell_type": "code",
   "execution_count": 40,
   "metadata": {},
   "outputs": [
    {
     "name": "stdout",
     "output_type": "stream",
     "text": [
      "\n",
      "Top 10 Produk dengan Umur Stok Tertua:\n",
      "                                                    name             category  \\\n",
      "5257                    Joe's Jeans Women's Opale Jacket    Blazers & Jackets   \n",
      "34659  Men's Superior 150s Single Breasted Two Button...  Suits & Sport Coats   \n",
      "681    Dickies Men's Web Belt with Antique Nickel Finish          Accessories   \n",
      "38101  Beach Depot UPF 50+ Men's Short Sleeve Rash Gu...                 Swim   \n",
      "27678  Allegra K Woman Elastic Waist Irregular Chiffo...               Skirts   \n",
      "30963  Women's Cotton Rich Knit Lounge Pants - Many C...       Sleep & Lounge   \n",
      "4497   Underworks Mens Extreme Gynecomastia Chest Bin...               Active   \n",
      "24851              neff Women's Daily Sparkle Beanie Hat                 Plus   \n",
      "10250            Amazing Shape Mid-Thigh Bodysuit Shaper            Intimates   \n",
      "16749  Allegra K Ladies Elastic Waist Cartoon Cats Pa...             Leggings   \n",
      "\n",
      "                 brand  stock_age  \n",
      "5257       Joe's Jeans        180  \n",
      "34659        Caravelli        180  \n",
      "681            Dickies        180  \n",
      "38101  The Beach Depot        180  \n",
      "27678        Allegra K        180  \n",
      "30963     Nvie Designs        180  \n",
      "4497        Underworks        180  \n",
      "24851             NEFF        180  \n",
      "10250          Leonisa        180  \n",
      "16749        Allegra K        180  \n"
     ]
    }
   ],
   "source": [
    "# Identifikasi produk dengan umur stok tertua\n",
    "oldest_stock = inventory_item.merge(\n",
    "    product[['id', 'name', 'category', 'brand']],\n",
    "    left_on='product_id',\n",
    "    right_on='id'\n",
    ").sort_values('stock_age', ascending=False)\n",
    "\n",
    "print(\"\\nTop 10 Produk dengan Umur Stok Tertua:\")\n",
    "print(oldest_stock[['name', 'category', 'brand', 'stock_age']].head(10))\n"
   ]
  },
  {
   "cell_type": "markdown",
   "metadata": {},
   "source": [
    "Dari hasil menunjukan rata-rata stock aging dari top 10 category tidak terlalu berbeda. Terlihat juga terdapat product yang sudah lama tersimpan warehouse belum juga terjual."
   ]
  },
  {
   "cell_type": "markdown",
   "metadata": {},
   "source": [
    "<h3>5. Stock Level Optimization</h3>"
   ]
  },
  {
   "cell_type": "code",
   "execution_count": 41,
   "metadata": {},
   "outputs": [
    {
     "name": "stdout",
     "output_type": "stream",
     "text": [
      "\n",
      "Produk yang Perlu Safety Stock Tinggi:\n",
      "                                                   name             category  \\\n",
      "0                        Bailey 44 Women's Undertow Top          Tops & Tees   \n",
      "8294  Elie Tahari Mens 2 Button Flat Front Black Pin...  Suits & Sport Coats   \n",
      "8272                      Afazzy Chestnut Travel Blazer  Suits & Sport Coats   \n",
      "8273       Marc Ecko Cut & Sew Men's Herringbone Blazer  Suits & Sport Coats   \n",
      "8274              7 Diamonds Men's Lovers In Japan Coat  Suits & Sport Coats   \n",
      "8275  Savile Row Mens Grey Birdseye Italian Wool 2 B...  Suits & Sport Coats   \n",
      "8276  Tuxedo Vest - Solid Satin with Matching Pin As...  Suits & Sport Coats   \n",
      "8277  New Fashion Men's Slim Fit Two Button Window P...  Suits & Sport Coats   \n",
      "8278            Synrgy Big & Tall Flat-Front Suit Pants  Suits & Sport Coats   \n",
      "8279  Ralph Lauren Mens Tan Houndstooth Silk Wool Sp...  Suits & Sport Coats   \n",
      "\n",
      "                       brand  safety_stock_level  \n",
      "0                  Bailey 44                 7.0  \n",
      "8294             Elie Tahari                 7.0  \n",
      "8272                  Affazy                 7.0  \n",
      "8273     Marc Ecko Cut & Sew                 7.0  \n",
      "8274              7 Diamonds                 7.0  \n",
      "8275  The Savile Row Company                 7.0  \n",
      "8276                   Cardi                 7.0  \n",
      "8277        King Formal Wear                 7.0  \n",
      "8278                 Synergy                 7.0  \n",
      "8279            Ralph Lauren                 7.0  \n"
     ]
    }
   ],
   "source": [
    "\n",
    "# Hitung safety stock level\n",
    "# Safety Stock = (Max Daily Sales × Max Lead Time) - (Average Daily Sales × Average Lead Time)\n",
    "daily_sales = order_items.groupby(['product_id', 'created_at']).size().reset_index()\n",
    "daily_sales.columns = ['product_id', 'date', 'sales_count']\n",
    "\n",
    "safety_stock = daily_sales.groupby('product_id').agg({\n",
    "    'sales_count': ['max', 'mean']\n",
    "}).reset_index()\n",
    "safety_stock.columns = ['product_id', 'max_daily_sales', 'avg_daily_sales']\n",
    "\n",
    "# Asumsi lead time rata-rata 7 hari dan maksimal 14 hari\n",
    "safety_stock['safety_stock_level'] = (safety_stock['max_daily_sales'] * 14) - (safety_stock['avg_daily_sales'] * 7)\n",
    "\n",
    "# Gabungkan dengan data produk\n",
    "safety_stock = safety_stock.merge(\n",
    "    product[['id', 'name', 'category', 'brand']],\n",
    "    left_on='product_id',\n",
    "    right_on='id'\n",
    ")\n",
    "\n",
    "print(\"\\nProduk yang Perlu Safety Stock Tinggi:\")\n",
    "print(safety_stock.sort_values('safety_stock_level', ascending=False)[['name', 'category', 'brand', 'safety_stock_level']].head(10))\n",
    "\n"
   ]
  },
  {
   "cell_type": "markdown",
   "metadata": {},
   "source": [
    "Semua produk memiliki nilai safety stock yang sama (7.0). Ini menunjukkan pola penjualan yang relatif stabil dan konsisten. Tidak ada variasi ekstrim dalam permintaan harian."
   ]
  },
  {
   "cell_type": "markdown",
   "metadata": {},
   "source": [
    "<h1>IV. Conclusion</h1>"
   ]
  },
  {
   "cell_type": "markdown",
   "metadata": {},
   "source": [
    "**Variasi Durasi Pengiriman**: Durasi pengiriman dipengaruhi oleh state. Hal ini terjadi karena beberapa faktor yang belum ada dalam data, termasuk lokasi geografis (semakin jauh dari Distribution Center/DC, semakin lama). Selain itu kategori produk yang memiliki volume pengiriman yang besar menjadi faktor keterlambatan dalam pengiriman. Perlu dilakukan efisiensi partner logistik.<br><br>\n",
    "**Pola Pembatalan dan Pengembalian Produk**: Tingkat pembatalan tercatat sebesar 14.57% dengan durasi rata-rata 87.88 hari. Menariknya, pembatalan tidak menunjukkan korelasi dengan kualitas produk. Sementara itu, tidak ditemukan pola pengembalian yang spesifik berdasarkan brand. Namun, kategori pakaian atas dan jeans menunjukkan tingkat pengembalian yang lebih tinggi, kemungkinan besar disebabkan oleh masalah ukuran atau ketidak sesuaian dengan deskripsi product.<br><br>\n",
    "**Optimasi Rute Pengiriman**: Analisis membuka peluang untuk optimasi rute pengiriman melalui penambahan hub di area dengan durasi pengiriman yang lambat, pengembangan jaringan partner logistik yang lebih luas, implementasi sistem prediksi durasi pengiriman, dan optimasi berdasarkan analisis geografis.<br><br>\n",
    "**Pola Distribusi Umur Stok**: Analisis menunjukkan adanya keseragaman yang mencolok dalam pola distribusi umur stok di seluruh kategori produk. Rata-rata umur stok berkisar antara 89 hingga 91 hari, dengan kategori Tops & Tees memiliki umur stok tertinggi (90.67 hari) dan Accessories terendah (89.02 hari). Keseragaman ini mengindikasikan kemungkinan adanya kebijakan manajemen stok yang terlalu general dan kurang mempertimbangkan karakteristik unik dari masing-masing kategori produk.<br><br>\n",
    "**Faktor-faktor yang Mempengaruhi Tingkat Turnover Stok**: Beberapa faktor kunci teridentifikasi mempengaruhi tingkat turnover stok. Kategori produk menjadi salah satu faktor signifikan, terutama terlihat pada pola yang berbeda pada kategori Suits & Sport Coats. Selain itu, brand juga memainkan peran penting, di mana brand premium menunjukkan kebutuhan safety stock yang spesifik. Stabilitas pola penjualan harian dan konsistensi lead time (antara 7 hingga 14 hari) juga berkontribusi pada dinamika turnover stok. Analisis safety stock merekomendasikan level optimal sebesar 7.0 unit untuk produk-produk prioritas. Namun, rekomendasi yang lebih spesifik per kategori adalah mempertahankan level 7.0 untuk kategori formal (Suits & Sport Coats), mengevaluasi penurunan level untuk kategori casual, mempertahankan level tinggi untuk brand premium, dan menyesuaikan level berdasarkan pola historis untuk produk dengan turnover tinggi."
   ]
  },
  {
   "cell_type": "markdown",
   "metadata": {},
   "source": [
    "<h3>Rekomendasi</h3>"
   ]
  },
  {
   "cell_type": "markdown",
   "metadata": {},
   "source": [
    "**Manajemen Stok**\n",
    "Diperlukan diferensiasi kebijakan stok antar kategori, implementasi sistem rotasi stok yang lebih ketat (first-in, first-out), dan penyesuaian level safety stock yang lebih adaptif terhadap karakteristik masing-masing produk. Pengembangan model prediktif untuk manajemen stok yang lebih akurat<br><br>\n",
    "**Operasional Pengiriman**\n",
    "Fokus pada peningkatan shipping rate yang saat ini berada di angka 65.68%, optimasi jaringan logistik, dan peningkatan sistem tracking untuk memberikan visibilitas yang lebih baik kepada pelanggan. Untuk jangka panjang investasi pada infrastruktur logistik, termasuk kemungkinan pengembangan Distribution Center (DC) baru<br><br>\n",
    "**Strategi Pembelian**\n",
    "Kebijakan pembelian perlu disesuaikan berdasarkan analisis turnover, mempertimbangkan lead time dalam perencanaan stok, dan melakukan evaluasi berkala terhadap hubungan dengan supplier."
   ]
  }
 ],
 "metadata": {
  "kernelspec": {
   "display_name": "envHacktiv8",
   "language": "python",
   "name": "python3"
  },
  "language_info": {
   "codemirror_mode": {
    "name": "ipython",
    "version": 3
   },
   "file_extension": ".py",
   "mimetype": "text/x-python",
   "name": "python",
   "nbconvert_exporter": "python",
   "pygments_lexer": "ipython3",
   "version": "3.12.6"
  }
 },
 "nbformat": 4,
 "nbformat_minor": 2
}
